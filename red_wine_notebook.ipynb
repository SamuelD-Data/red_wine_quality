{
 "cells": [
  {
   "cell_type": "markdown",
   "metadata": {},
   "source": [
    "# Red Wine Quality Project\n",
    "***\n",
    "***"
   ]
  },
  {
   "cell_type": "markdown",
   "metadata": {},
   "source": [
    "# Goal\n",
    "***\n",
    "- Predict the quality of red wines based on some of their various physiochemical attributes"
   ]
  },
  {
   "cell_type": "markdown",
   "metadata": {},
   "source": [
    "# Setup\n",
    "***"
   ]
  },
  {
   "cell_type": "code",
   "execution_count": null,
   "metadata": {},
   "outputs": [],
   "source": [
    "# establishing environment\n",
    "import sklearn\n",
    "import pandas as pd\n",
    "import numpy as np\n",
    "import seaborn as sns\n",
    "import matplotlib.pyplot as plt\n",
    "import scipy.stats as stats\n",
    "\n",
    "from sklearn.preprocessing import MinMaxScaler\n",
    "from sklearn.model_selection import train_test_split\n",
    "from sklearn.feature_selection import RFE\n",
    "\n",
    "import warnings\n",
    "warnings.filterwarnings(\"ignore\")"
   ]
  },
  {
   "cell_type": "markdown",
   "metadata": {},
   "source": [
    "# Acquire\n",
    "Acquiring the data for this project\n",
    "***"
   ]
  },
  {
   "cell_type": "code",
   "execution_count": null,
   "metadata": {},
   "outputs": [],
   "source": [
    "# acquiring data from local csv\n",
    "wines = pd.read_csv('winequality-red.csv')\n",
    "\n",
    "wines.head()"
   ]
  },
  {
   "cell_type": "markdown",
   "metadata": {},
   "source": [
    "# Prepare\n",
    "Preparing the data for this project"
   ]
  },
  {
   "cell_type": "markdown",
   "metadata": {},
   "source": [
    "## Changing spaces in column names to '_'"
   ]
  },
  {
   "cell_type": "code",
   "execution_count": null,
   "metadata": {
    "scrolled": true
   },
   "outputs": [],
   "source": [
    "# replacing spaces with underscores in column names\n",
    "wines.columns = wines.columns.str.replace(' ', '_')"
   ]
  },
  {
   "cell_type": "markdown",
   "metadata": {},
   "source": [
    "## Changing all column names to be completed lowercase"
   ]
  },
  {
   "cell_type": "code",
   "execution_count": null,
   "metadata": {},
   "outputs": [],
   "source": [
    "# lowercasing all column names\n",
    "wines.columns = wines.columns.str.lower()"
   ]
  },
  {
   "cell_type": "markdown",
   "metadata": {},
   "source": [
    "## Outliers\n",
    "After reviewing the data in-depth for outliers, I believe that the outliers are legitimate values. I don't want to remove non-erroneous data so I'm leaving the outliers in, with their original values."
   ]
  },
  {
   "cell_type": "markdown",
   "metadata": {},
   "source": [
    "## Splitting data"
   ]
  },
  {
   "cell_type": "code",
   "execution_count": null,
   "metadata": {},
   "outputs": [],
   "source": [
    "# splitting data\n",
    "train_validate, test = train_test_split(wines, test_size=.2, random_state=123)\n",
    "train, validate = train_test_split(train_validate, test_size=.3, random_state=123)"
   ]
  },
  {
   "cell_type": "markdown",
   "metadata": {},
   "source": [
    "## Scaling data"
   ]
  },
  {
   "cell_type": "code",
   "execution_count": null,
   "metadata": {},
   "outputs": [],
   "source": [
    "# creating list of DFs\n",
    "df_list = [train, validate, test]\n",
    "# creating empty list to hold names of columns to scale\n",
    "cols_to_scale_l = []\n",
    "# creating empty list to hold names of scaled columns\n",
    "scaled_cols_l = []\n",
    "\n",
    "# iterating through each column to be scaled of each df\n",
    "for df in df_list:\n",
    "    for col in df:\n",
    "        if col != 'quality':\n",
    "            # making temporary variable that holds current column name concatenated with '_s' at the end\n",
    "            scaled_col_name = col + '_s'\n",
    "            # appending col name to list\n",
    "            cols_to_scale_l.append(col)\n",
    "            # appending concatenated col name to list\n",
    "            scaled_cols_l.append(scaled_col_name)\n",
    "            # adding column with concatenated col name to current df\n",
    "            df[scaled_col_name] = 0\n",
    "\n",
    "for df in df_list:\n",
    "    quality_col = df.pop('quality')\n",
    "    df['quality'] = quality_col\n",
    "    \n",
    "#quality_col = train.pop('quality') \n"
   ]
  },
  {
   "cell_type": "code",
   "execution_count": null,
   "metadata": {},
   "outputs": [],
   "source": [
    "# creating scaler object\n",
    "scaler = sklearn.preprocessing.MinMaxScaler()\n",
    "\n",
    "# fitting scaler to train column and scaling after\n",
    "train[scaled_cols_l] = scaler.fit_transform(train[cols_to_scale_l])\n",
    "\n",
    "# scaling data in validate and test dataframes\n",
    "validate[scaled_cols_l] = scaler.transform(validate[cols_to_scale_l])\n",
    "test[scaled_cols_l] = scaler.transform(test[cols_to_scale_l])"
   ]
  },
  {
   "cell_type": "markdown",
   "metadata": {},
   "source": [
    "# Explore\n",
    "Exploring the data to find insights about what drives wine quality"
   ]
  },
  {
   "cell_type": "code",
   "execution_count": null,
   "metadata": {},
   "outputs": [],
   "source": [
    "train.columns"
   ]
  },
  {
   "cell_type": "code",
   "execution_count": null,
   "metadata": {},
   "outputs": [],
   "source": [
    "for col in train:\n",
    "    print(col[-2:])"
   ]
  },
  {
   "cell_type": "code",
   "execution_count": null,
   "metadata": {},
   "outputs": [],
   "source": [
    "for col in train:\n",
    "    if col[-2:] == '_s' or col == 'quality':\n",
    "        print(col)\n",
    "\n",
    "#train_heatmap = train[[']]\n",
    "\n",
    "#train_heatmap"
   ]
  },
  {
   "cell_type": "code",
   "execution_count": null,
   "metadata": {},
   "outputs": [],
   "source": [
    "train"
   ]
  },
  {
   "cell_type": "code",
   "execution_count": null,
   "metadata": {},
   "outputs": [],
   "source": [
    "validate"
   ]
  }
 ],
 "metadata": {
  "kernelspec": {
   "display_name": "Python 3",
   "language": "python",
   "name": "python3"
  },
  "language_info": {
   "codemirror_mode": {
    "name": "ipython",
    "version": 3
   },
   "file_extension": ".py",
   "mimetype": "text/x-python",
   "name": "python",
   "nbconvert_exporter": "python",
   "pygments_lexer": "ipython3",
   "version": "3.7.6"
  }
 },
 "nbformat": 4,
 "nbformat_minor": 4
}

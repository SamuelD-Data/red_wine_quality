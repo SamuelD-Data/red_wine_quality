{
 "cells": [
  {
   "cell_type": "markdown",
   "metadata": {},
   "source": [
    "# Red Wine Quality Project\n",
    "***\n",
    "***"
   ]
  },
  {
   "cell_type": "markdown",
   "metadata": {},
   "source": [
    "# Goal\n",
    "***\n",
    "- Predict the quality of red wines based on some of their various physiochemical attributes"
   ]
  },
  {
   "cell_type": "markdown",
   "metadata": {},
   "source": [
    "# Setup\n",
    "***"
   ]
  },
  {
   "cell_type": "code",
   "execution_count": 8,
   "metadata": {},
   "outputs": [],
   "source": [
    "# establishing environment\n",
    "import sklearn\n",
    "import pandas as pd\n",
    "import numpy as np\n",
    "import seaborn as sns\n",
    "import matplotlib.pyplot as plt\n",
    "import scipy.stats as stats\n",
    "\n",
    "from sklearn.preprocessing import MinMaxScaler\n",
    "from sklearn.model_selection import train_test_split\n",
    "from sklearn.feature_selection import RFE\n",
    "\n",
    "import warnings\n",
    "warnings.filterwarnings(\"ignore\")"
   ]
  },
  {
   "cell_type": "markdown",
   "metadata": {},
   "source": [
    "# Acquire\n",
    "Acquiring the data for this project\n",
    "***"
   ]
  },
  {
   "cell_type": "code",
   "execution_count": 9,
   "metadata": {},
   "outputs": [
    {
     "data": {
      "text/html": [
       "<div>\n",
       "<style scoped>\n",
       "    .dataframe tbody tr th:only-of-type {\n",
       "        vertical-align: middle;\n",
       "    }\n",
       "\n",
       "    .dataframe tbody tr th {\n",
       "        vertical-align: top;\n",
       "    }\n",
       "\n",
       "    .dataframe thead th {\n",
       "        text-align: right;\n",
       "    }\n",
       "</style>\n",
       "<table border=\"1\" class=\"dataframe\">\n",
       "  <thead>\n",
       "    <tr style=\"text-align: right;\">\n",
       "      <th></th>\n",
       "      <th>fixed acidity</th>\n",
       "      <th>volatile acidity</th>\n",
       "      <th>citric acid</th>\n",
       "      <th>residual sugar</th>\n",
       "      <th>chlorides</th>\n",
       "      <th>free sulfur dioxide</th>\n",
       "      <th>total sulfur dioxide</th>\n",
       "      <th>density</th>\n",
       "      <th>pH</th>\n",
       "      <th>sulphates</th>\n",
       "      <th>alcohol</th>\n",
       "      <th>quality</th>\n",
       "    </tr>\n",
       "  </thead>\n",
       "  <tbody>\n",
       "    <tr>\n",
       "      <th>0</th>\n",
       "      <td>7.4</td>\n",
       "      <td>0.70</td>\n",
       "      <td>0.00</td>\n",
       "      <td>1.9</td>\n",
       "      <td>0.076</td>\n",
       "      <td>11.0</td>\n",
       "      <td>34.0</td>\n",
       "      <td>0.9978</td>\n",
       "      <td>3.51</td>\n",
       "      <td>0.56</td>\n",
       "      <td>9.4</td>\n",
       "      <td>5</td>\n",
       "    </tr>\n",
       "    <tr>\n",
       "      <th>1</th>\n",
       "      <td>7.8</td>\n",
       "      <td>0.88</td>\n",
       "      <td>0.00</td>\n",
       "      <td>2.6</td>\n",
       "      <td>0.098</td>\n",
       "      <td>25.0</td>\n",
       "      <td>67.0</td>\n",
       "      <td>0.9968</td>\n",
       "      <td>3.20</td>\n",
       "      <td>0.68</td>\n",
       "      <td>9.8</td>\n",
       "      <td>5</td>\n",
       "    </tr>\n",
       "    <tr>\n",
       "      <th>2</th>\n",
       "      <td>7.8</td>\n",
       "      <td>0.76</td>\n",
       "      <td>0.04</td>\n",
       "      <td>2.3</td>\n",
       "      <td>0.092</td>\n",
       "      <td>15.0</td>\n",
       "      <td>54.0</td>\n",
       "      <td>0.9970</td>\n",
       "      <td>3.26</td>\n",
       "      <td>0.65</td>\n",
       "      <td>9.8</td>\n",
       "      <td>5</td>\n",
       "    </tr>\n",
       "    <tr>\n",
       "      <th>3</th>\n",
       "      <td>11.2</td>\n",
       "      <td>0.28</td>\n",
       "      <td>0.56</td>\n",
       "      <td>1.9</td>\n",
       "      <td>0.075</td>\n",
       "      <td>17.0</td>\n",
       "      <td>60.0</td>\n",
       "      <td>0.9980</td>\n",
       "      <td>3.16</td>\n",
       "      <td>0.58</td>\n",
       "      <td>9.8</td>\n",
       "      <td>6</td>\n",
       "    </tr>\n",
       "    <tr>\n",
       "      <th>4</th>\n",
       "      <td>7.4</td>\n",
       "      <td>0.70</td>\n",
       "      <td>0.00</td>\n",
       "      <td>1.9</td>\n",
       "      <td>0.076</td>\n",
       "      <td>11.0</td>\n",
       "      <td>34.0</td>\n",
       "      <td>0.9978</td>\n",
       "      <td>3.51</td>\n",
       "      <td>0.56</td>\n",
       "      <td>9.4</td>\n",
       "      <td>5</td>\n",
       "    </tr>\n",
       "  </tbody>\n",
       "</table>\n",
       "</div>"
      ],
      "text/plain": [
       "   fixed acidity  volatile acidity  citric acid  residual sugar  chlorides  \\\n",
       "0            7.4              0.70         0.00             1.9      0.076   \n",
       "1            7.8              0.88         0.00             2.6      0.098   \n",
       "2            7.8              0.76         0.04             2.3      0.092   \n",
       "3           11.2              0.28         0.56             1.9      0.075   \n",
       "4            7.4              0.70         0.00             1.9      0.076   \n",
       "\n",
       "   free sulfur dioxide  total sulfur dioxide  density    pH  sulphates  \\\n",
       "0                 11.0                  34.0   0.9978  3.51       0.56   \n",
       "1                 25.0                  67.0   0.9968  3.20       0.68   \n",
       "2                 15.0                  54.0   0.9970  3.26       0.65   \n",
       "3                 17.0                  60.0   0.9980  3.16       0.58   \n",
       "4                 11.0                  34.0   0.9978  3.51       0.56   \n",
       "\n",
       "   alcohol  quality  \n",
       "0      9.4        5  \n",
       "1      9.8        5  \n",
       "2      9.8        5  \n",
       "3      9.8        6  \n",
       "4      9.4        5  "
      ]
     },
     "execution_count": 9,
     "metadata": {},
     "output_type": "execute_result"
    },
    {
     "data": {
      "text/html": [
       "<div>\n",
       "<style scoped>\n",
       "    .dataframe tbody tr th:only-of-type {\n",
       "        vertical-align: middle;\n",
       "    }\n",
       "\n",
       "    .dataframe tbody tr th {\n",
       "        vertical-align: top;\n",
       "    }\n",
       "\n",
       "    .dataframe thead th {\n",
       "        text-align: right;\n",
       "    }\n",
       "</style>\n",
       "<table border=\"1\" class=\"dataframe\">\n",
       "  <thead>\n",
       "    <tr style=\"text-align: right;\">\n",
       "      <th></th>\n",
       "      <th>fixed acidity</th>\n",
       "      <th>volatile acidity</th>\n",
       "      <th>citric acid</th>\n",
       "      <th>residual sugar</th>\n",
       "      <th>chlorides</th>\n",
       "      <th>free sulfur dioxide</th>\n",
       "      <th>total sulfur dioxide</th>\n",
       "      <th>density</th>\n",
       "      <th>pH</th>\n",
       "      <th>sulphates</th>\n",
       "      <th>alcohol</th>\n",
       "      <th>quality</th>\n",
       "    </tr>\n",
       "  </thead>\n",
       "  <tbody>\n",
       "    <tr>\n",
       "      <th>0</th>\n",
       "      <td>7.4</td>\n",
       "      <td>0.70</td>\n",
       "      <td>0.00</td>\n",
       "      <td>1.9</td>\n",
       "      <td>0.076</td>\n",
       "      <td>11.0</td>\n",
       "      <td>34.0</td>\n",
       "      <td>0.9978</td>\n",
       "      <td>3.51</td>\n",
       "      <td>0.56</td>\n",
       "      <td>9.4</td>\n",
       "      <td>5</td>\n",
       "    </tr>\n",
       "    <tr>\n",
       "      <th>1</th>\n",
       "      <td>7.8</td>\n",
       "      <td>0.88</td>\n",
       "      <td>0.00</td>\n",
       "      <td>2.6</td>\n",
       "      <td>0.098</td>\n",
       "      <td>25.0</td>\n",
       "      <td>67.0</td>\n",
       "      <td>0.9968</td>\n",
       "      <td>3.20</td>\n",
       "      <td>0.68</td>\n",
       "      <td>9.8</td>\n",
       "      <td>5</td>\n",
       "    </tr>\n",
       "    <tr>\n",
       "      <th>2</th>\n",
       "      <td>7.8</td>\n",
       "      <td>0.76</td>\n",
       "      <td>0.04</td>\n",
       "      <td>2.3</td>\n",
       "      <td>0.092</td>\n",
       "      <td>15.0</td>\n",
       "      <td>54.0</td>\n",
       "      <td>0.9970</td>\n",
       "      <td>3.26</td>\n",
       "      <td>0.65</td>\n",
       "      <td>9.8</td>\n",
       "      <td>5</td>\n",
       "    </tr>\n",
       "    <tr>\n",
       "      <th>3</th>\n",
       "      <td>11.2</td>\n",
       "      <td>0.28</td>\n",
       "      <td>0.56</td>\n",
       "      <td>1.9</td>\n",
       "      <td>0.075</td>\n",
       "      <td>17.0</td>\n",
       "      <td>60.0</td>\n",
       "      <td>0.9980</td>\n",
       "      <td>3.16</td>\n",
       "      <td>0.58</td>\n",
       "      <td>9.8</td>\n",
       "      <td>6</td>\n",
       "    </tr>\n",
       "    <tr>\n",
       "      <th>4</th>\n",
       "      <td>7.4</td>\n",
       "      <td>0.70</td>\n",
       "      <td>0.00</td>\n",
       "      <td>1.9</td>\n",
       "      <td>0.076</td>\n",
       "      <td>11.0</td>\n",
       "      <td>34.0</td>\n",
       "      <td>0.9978</td>\n",
       "      <td>3.51</td>\n",
       "      <td>0.56</td>\n",
       "      <td>9.4</td>\n",
       "      <td>5</td>\n",
       "    </tr>\n",
       "  </tbody>\n",
       "</table>\n",
       "</div>"
      ],
      "text/plain": [
       "   fixed acidity  volatile acidity  citric acid  residual sugar  chlorides  \\\n",
       "0            7.4              0.70         0.00             1.9      0.076   \n",
       "1            7.8              0.88         0.00             2.6      0.098   \n",
       "2            7.8              0.76         0.04             2.3      0.092   \n",
       "3           11.2              0.28         0.56             1.9      0.075   \n",
       "4            7.4              0.70         0.00             1.9      0.076   \n",
       "\n",
       "   free sulfur dioxide  total sulfur dioxide  density    pH  sulphates  \\\n",
       "0                 11.0                  34.0   0.9978  3.51       0.56   \n",
       "1                 25.0                  67.0   0.9968  3.20       0.68   \n",
       "2                 15.0                  54.0   0.9970  3.26       0.65   \n",
       "3                 17.0                  60.0   0.9980  3.16       0.58   \n",
       "4                 11.0                  34.0   0.9978  3.51       0.56   \n",
       "\n",
       "   alcohol  quality  \n",
       "0      9.4        5  \n",
       "1      9.8        5  \n",
       "2      9.8        5  \n",
       "3      9.8        6  \n",
       "4      9.4        5  "
      ]
     },
     "execution_count": 9,
     "metadata": {},
     "output_type": "execute_result"
    }
   ],
   "source": [
    "wines = pd.read_csv('winequality-red.csv')\n",
    "\n",
    "wines.head()"
   ]
  },
  {
   "cell_type": "markdown",
   "metadata": {},
   "source": [
    "# Prepare\n",
    "Preparing the data for this project"
   ]
  },
  {
   "cell_type": "markdown",
   "metadata": {},
   "source": [
    "## Splitting data"
   ]
  },
  {
   "cell_type": "code",
   "execution_count": 10,
   "metadata": {},
   "outputs": [],
   "source": [
    "# splitting data\n",
    "train_validate, test = train_test_split(wines, test_size=.2, random_state=123)\n",
    "train, validate = train_test_split(train_validate, test_size=.3, random_state=123)"
   ]
  },
  {
   "cell_type": "markdown",
   "metadata": {},
   "source": [
    "## Scaling data"
   ]
  },
  {
   "cell_type": "code",
   "execution_count": 11,
   "metadata": {},
   "outputs": [
    {
     "data": {
      "text/plain": [
       "['fixed acidity',\n",
       " 'volatile acidity',\n",
       " 'residual sugar',\n",
       " 'free sulfur dioxide',\n",
       " 'total sulfur dioxide',\n",
       " 'density',\n",
       " 'pH',\n",
       " 'sulphates',\n",
       " 'alcohol']"
      ]
     },
     "execution_count": 11,
     "metadata": {},
     "output_type": "execute_result"
    },
    {
     "data": {
      "text/plain": [
       "['fixed acidity',\n",
       " 'volatile acidity',\n",
       " 'residual sugar',\n",
       " 'free sulfur dioxide',\n",
       " 'total sulfur dioxide',\n",
       " 'density',\n",
       " 'pH',\n",
       " 'sulphates',\n",
       " 'alcohol']"
      ]
     },
     "execution_count": 11,
     "metadata": {},
     "output_type": "execute_result"
    }
   ],
   "source": [
    "# identifying columns to scale\n",
    "col_to_scale = []\n",
    "\n",
    "for col in wines:\n",
    "    if (wines[col].min() < 0 or wines[col].max() > 1) and col != 'quality':\n",
    "        col_to_scale.append(col)\n",
    "\n",
    "col_to_scale"
   ]
  },
  {
   "cell_type": "code",
   "execution_count": 53,
   "metadata": {},
   "outputs": [],
   "source": [
    "# creating cols that will hold scaled values\n",
    "for df in wine_d:\n",
    "    for col in col_to_scale:\n",
    "        wine_d[df][col + '_s'] = 0"
   ]
  },
  {
   "cell_type": "code",
   "execution_count": 57,
   "metadata": {},
   "outputs": [
    {
     "ename": "ValueError",
     "evalue": "Expected 2D array, got 1D array instead:\narray=[ 8.3  6.7  8.2  8.2 10.8  9.   7.2  8.6  7.   6.7  7.2 10.9  6.5  6.3\n  7.9  6.2  8.5  7.2  7.2  8.2  8.5 10.2  7.8  7.8  9.9  8.   7.6  9.1\n  7.5  9.9  5.6  6.6 10.3  7.8  8.2  7.2 12.2  7.1 12.   8.3  7.2  7.\n  6.5  7.7  9.9 12.4  5.1  5.2  8.   7.9  7.2  7.9  7.6  7.7  7.  10.4\n  7.6  7.5  8.4  7.9  6.1  9.4  7.  10.5  8.3 10.4  9.2  7.4  8.   8.5\n  8.1  8.2  8.9  8.3  7.1  9.   7.8  8.6  6.8  9.1  6.4  6.2 12.5  9.9\n  8.9 11.6  8.6  9.   7.4 11.6  7.1  7.5  7.4  5.4  9.4 12.   7.1 10.\n  7.1  7.2  7.3  7.8 10.5 10.7  9.9  6.4 11.3  8.1  8.6  7.3 11.9  6.5\n  7.4  9.1  8.6  7.8  8.4  7.   7.2 11.8  6.3  7.7 11.5  8.5  7.1  7.8\n  7.6  6.2  8.2  6.   7.4  6.3 12.  10.   7.7  4.7  7.2 10.9 10.4  7.4\n  8.   9.9  7.1 10.6 10.2  7.9  8.9  6.5 10.2  7.5  8.   6.8  7.8  9.7\n  8.4  6.8 10.4  8.1  5.7  8.2  7.3  7.7  5.9 10.1  9.9  8.5  8.3  7.\n  8.3  7.1  6.7  6.2 12.6  6.8  8.   6.9  7.1  9.3  7.8 10.8 10.1  9.3\n  6.8  6.7  9.6  8.4  6.9  9.3 11.5  6.6 13.7  8.3  6.6  7.2  8.8 11.5\n  6.6  7.7  9.2  9.   8.9  7.3 10.7  8.3  8.3  6.8  7.8  6.6  9.1  9.6\n  8.2  6.7  7.2  9.3 10.   6.5  6.5  6.7  6.6  7.   7.6  6.6  6.6  6.2\n  8.1  7.7  6.7  6.4  9.3  7.2  5.9  8.   7.8  8.8  7.9  6.8  8.3  6.8\n 11.9  9.   7.7  6.4  6.9 10.2 10.2  7.9  7.9 11.3  9.3  8.1 12.2  8.\n  9.6  6.4  6.4  7.5  8.1 12.   7.6  7.9  8.7  6.6  7.2 10.5  9.   8.7\n  6.1 10.   6.9  6.7  8.9  7.3 12.4  9.3  8.7  6.8  6.8  7.7  7.1  8.\n  6.6  7.4 12.9  8.3  6.7 12.5  8.   9.9  7.   7.9  9.3  7.7 12.3  7.3\n  7.   8.9  7.3  7.1 10.2  6.1  7.5  7.2  7.   8.6  7.4  8.3 11.2  9.1\n  7.8 11.2  8.8  7.2  7.6  7.1  9.5  7.2  6.7  8.3  7.5 10.2  6.2 12.6\n  8.3 12.  11.   8.6  7.4 10.2  6.4  7.9  8.5 14.   7.1  8.2  7.5  9.2\n  7.7 10.4 12.5  7.7  8.8  7.9  6.7 13.8  8.   8.5  8.2  8.9  5.9  9.6\n  7.1 10.3  9.8 10.2  9.   7.6 12.1  8.2  7.2  7.9  7.3  7.8  9.5  7.2\n 10.8  7.2  7.7  8.7  6.1  7.5  6.8  7.1  9.3  6.9 10.8 11.6  7.   8.1\n  9.   6.3  6.4  7.1  7.2  9.4  6.6  7.2  8.8  9.6  7.2  7.6  8.9  7.2\n 10.4  5.3  7.8 13.7  8.8 10.   9.6 10.   7.9  6.6  9.   8.   8.   8.3\n  8.   8.9  8.3  7.5  8.3 11.  12.   7.6  8.9  9.7  8.2  7.8  5.   7.8\n  7.1  6.8 13.3 11.6  8.8  6.4  8.2  7.9  7.3  8.3  8.1  7.  10.5  6.7\n  5.4  7.8  9.2  7.5  9.1  7.2  9.9  7.1 10.7  7.2  8.8  5.6  9.8  8.7\n  8.2  9.1  8.6  7.6 11.5  7.7  7.1  6.2  5.6  5.2  8.   5.3  7.2  6.8\n  7.6  8.6  8.2  6.3  8.7 10.9 10.2  8.4 10.4  6.8  7.7 10.1  7.4  7.\n  8.4 11.9 10.3  6.7  9.3  8.4  7.8  6.8  6.3  7.1  6.9  8.1  7.7  7.9\n  8.   9.9  6.9  8.2  6.9  8.2  7.6  8.6  7.6  6.6  7.3  7.   8.6 11.4\n  9.1  7.7 15.6  5.   8.2  8.8  5.3  7.1  9.1  7.1  6.8  8.8  7.2  7.1\n  9.1  7.8  8.1  8.9  9.5  7.2  7.4 12.8  6.8  6.1  9.   9.1  6.9  7.5\n  6.8  6.6  9.   9.2 11.2  8.9  8.3  8.   8.4 10.   6.2  7.6  6.9  7.8\n 10.2  7.7  9.1  7.2  7.9  8.8 10.4  7.5  9.9 12.8  8.2  6.5  7.6 11.5\n  7.7  7.5  8.7 10.1  6.4  9.2  7.5  5.8  7.  10.3  7.2  8.2  9.7  8.8\n  6.8  8.7  7.   8.7  8.9  9.   8.8  7.3  6.9  9.1  7.   7.   8.4 10.2\n  8.3  9.2 15.   9.1  7.4 10.2  8.7 10.8  7.2  7.5  7.4  7.8  7.8  7.5\n  5.1 12.5 11.1  5.6  7.7  8.  10.   8.2  5.   9.5  9.4  8.4  7.7  9.9\n  8.3  7.1  9.7 10.6  8.3  8.4  8.2  7.2 11.9  6.1  9.   7.6  7.3  8.1\n  7.3  7.1  9.   9.1  7.5  7.4  6.7  7.9  7.2  6.7  6.6  6.7  7.4  6.5\n  8.8  8.2  9.3  9.6 11.5  7.8 10.6 11.1 10.   6.1  6.7 10.4 11.9  6.4\n  7.4  8.1  7.5  9.4  6.2  9.6  7.2 10.9  7.2  8.8  7.7  7.9  9.4  7.9\n  8.9  7.5  7.7  6.3 11.5 10.2  6.3  6.9 11.5  6.9  7.5  8.8  8.7  7.5\n  7.5 10.5 11.5 12.8  7.1 10.4  7.6  7.6 10.   8.  12.5  7.1  7.   6.\n  6.7  7.6  7.6  6.5  7.1 10.4 12.3  6.8  8.4  6.6  9.5  8.   9.5  8.\n  9.4  7.6 11.5  8.5  8.   8.   6.5 12.4  7.7  9.9  7.4 10.8  6.1 11.6\n 10.4 14.3 10.5  8.9  6.6  8.3  7.   7.3 12.5 10.7  6.6  8.9 12.6  8.9\n  6.4  7.4  7.2 11.4  7.5  5.2 10.2  7.1  7.3  8.   7.8  8.8  6.9  6.8\n  7.9  6.7  7.4  8.4  6.   7.7  6.   7.4  7.   4.9  8.1  8.9  5.6  8.4\n  6.9  7.  12.3  7.9 10.4  5.8 12.7  9.6  7.2 15.6  7.1  7.5 10.6  8.5\n  7.6  9.9  9.1  9.8  5.6  8.7  6.4  6.2  8.3  6.   8.2  7.7  6.9  8.7\n 10.5  8.9  6.8  7.7  8.3  8.6 10.7  7.6  8.3  7.8  9.   7.6  8.8  7.3\n 11.2  8.4  7.3  6.9  9.3  7.2  9.2  6.9  7.7  7.1  7.9  6.7  7.7  7.3\n 11.9  8.   9.2  7.8  7.1  7.   7.  11.1  7.8  7.1  8.6  8.9  9.2  9.7\n  8.8 15.5  8.7  9.4  9.8 10.7 11.6  8.   8.6  8.4  7.  12.2  9.8  7.\n  9.1  8.6  6.9  7.3 10.   8.8  5.   8.2 10.7  7.   7.2  7.7  7.4  9.2\n  7.5  6.7  9.6 10.   7.3  7.8  7.4 11.7  6.5  8.3  9.9  7.3  7.2  5.7\n  6.6  7.1  9.   7.1  9.9  6.2  7.8  5.4  7.5  8.9  7.6  8.2  8.7].\nReshape your data either using array.reshape(-1, 1) if your data has a single feature or array.reshape(1, -1) if it contains a single sample.",
     "output_type": "error",
     "traceback": [
      "\u001b[0;31m---------------------------------------------------------------------------\u001b[0m",
      "\u001b[0;31mValueError\u001b[0m                                Traceback (most recent call last)",
      "\u001b[0;32m<ipython-input-57-7432ed983719>\u001b[0m in \u001b[0;36m<module>\u001b[0;34m\u001b[0m\n\u001b[1;32m      5\u001b[0m     \u001b[0;32mfor\u001b[0m \u001b[0mtrain_col\u001b[0m \u001b[0;32min\u001b[0m \u001b[0mtrain\u001b[0m\u001b[0;34m:\u001b[0m\u001b[0;34m\u001b[0m\u001b[0;34m\u001b[0m\u001b[0m\n\u001b[1;32m      6\u001b[0m         \u001b[0;32mif\u001b[0m \u001b[0;34m(\u001b[0m\u001b[0mtrain_col\u001b[0m\u001b[0;34m[\u001b[0m\u001b[0;34m-\u001b[0m\u001b[0;36m2\u001b[0m\u001b[0;34m:\u001b[0m\u001b[0;34m]\u001b[0m \u001b[0;34m==\u001b[0m \u001b[0;34m'_s'\u001b[0m\u001b[0;34m)\u001b[0m \u001b[0;34m&\u001b[0m \u001b[0;34m(\u001b[0m\u001b[0mtrain_col\u001b[0m\u001b[0;34m[\u001b[0m\u001b[0;34m:\u001b[0m\u001b[0;34m-\u001b[0m\u001b[0;36m2\u001b[0m\u001b[0;34m]\u001b[0m \u001b[0;34m==\u001b[0m \u001b[0mcol\u001b[0m\u001b[0;34m)\u001b[0m\u001b[0;34m:\u001b[0m\u001b[0;34m\u001b[0m\u001b[0;34m\u001b[0m\u001b[0m\n\u001b[0;32m----> 7\u001b[0;31m             \u001b[0mtrain\u001b[0m\u001b[0;34m[\u001b[0m\u001b[0mtrain_col\u001b[0m\u001b[0;34m]\u001b[0m \u001b[0;34m=\u001b[0m \u001b[0mscaler\u001b[0m\u001b[0;34m.\u001b[0m\u001b[0mfit_transform\u001b[0m\u001b[0;34m(\u001b[0m\u001b[0mtrain\u001b[0m\u001b[0;34m[\u001b[0m\u001b[0mcol\u001b[0m\u001b[0;34m]\u001b[0m\u001b[0;34m)\u001b[0m\u001b[0;34m\u001b[0m\u001b[0;34m\u001b[0m\u001b[0m\n\u001b[0m",
      "\u001b[0;32m/usr/local/anaconda3/lib/python3.7/site-packages/sklearn/base.py\u001b[0m in \u001b[0;36mfit_transform\u001b[0;34m(self, X, y, **fit_params)\u001b[0m\n\u001b[1;32m    697\u001b[0m         \u001b[0;32mif\u001b[0m \u001b[0my\u001b[0m \u001b[0;32mis\u001b[0m \u001b[0;32mNone\u001b[0m\u001b[0;34m:\u001b[0m\u001b[0;34m\u001b[0m\u001b[0;34m\u001b[0m\u001b[0m\n\u001b[1;32m    698\u001b[0m             \u001b[0;31m# fit method of arity 1 (unsupervised transformation)\u001b[0m\u001b[0;34m\u001b[0m\u001b[0;34m\u001b[0m\u001b[0;34m\u001b[0m\u001b[0m\n\u001b[0;32m--> 699\u001b[0;31m             \u001b[0;32mreturn\u001b[0m \u001b[0mself\u001b[0m\u001b[0;34m.\u001b[0m\u001b[0mfit\u001b[0m\u001b[0;34m(\u001b[0m\u001b[0mX\u001b[0m\u001b[0;34m,\u001b[0m \u001b[0;34m**\u001b[0m\u001b[0mfit_params\u001b[0m\u001b[0;34m)\u001b[0m\u001b[0;34m.\u001b[0m\u001b[0mtransform\u001b[0m\u001b[0;34m(\u001b[0m\u001b[0mX\u001b[0m\u001b[0;34m)\u001b[0m\u001b[0;34m\u001b[0m\u001b[0;34m\u001b[0m\u001b[0m\n\u001b[0m\u001b[1;32m    700\u001b[0m         \u001b[0;32melse\u001b[0m\u001b[0;34m:\u001b[0m\u001b[0;34m\u001b[0m\u001b[0;34m\u001b[0m\u001b[0m\n\u001b[1;32m    701\u001b[0m             \u001b[0;31m# fit method of arity 2 (supervised transformation)\u001b[0m\u001b[0;34m\u001b[0m\u001b[0;34m\u001b[0m\u001b[0;34m\u001b[0m\u001b[0m\n",
      "\u001b[0;32m/usr/local/anaconda3/lib/python3.7/site-packages/sklearn/preprocessing/_data.py\u001b[0m in \u001b[0;36mfit\u001b[0;34m(self, X, y)\u001b[0m\n\u001b[1;32m    361\u001b[0m         \u001b[0;31m# Reset internal state before fitting\u001b[0m\u001b[0;34m\u001b[0m\u001b[0;34m\u001b[0m\u001b[0;34m\u001b[0m\u001b[0m\n\u001b[1;32m    362\u001b[0m         \u001b[0mself\u001b[0m\u001b[0;34m.\u001b[0m\u001b[0m_reset\u001b[0m\u001b[0;34m(\u001b[0m\u001b[0;34m)\u001b[0m\u001b[0;34m\u001b[0m\u001b[0;34m\u001b[0m\u001b[0m\n\u001b[0;32m--> 363\u001b[0;31m         \u001b[0;32mreturn\u001b[0m \u001b[0mself\u001b[0m\u001b[0;34m.\u001b[0m\u001b[0mpartial_fit\u001b[0m\u001b[0;34m(\u001b[0m\u001b[0mX\u001b[0m\u001b[0;34m,\u001b[0m \u001b[0my\u001b[0m\u001b[0;34m)\u001b[0m\u001b[0;34m\u001b[0m\u001b[0;34m\u001b[0m\u001b[0m\n\u001b[0m\u001b[1;32m    364\u001b[0m \u001b[0;34m\u001b[0m\u001b[0m\n\u001b[1;32m    365\u001b[0m     \u001b[0;32mdef\u001b[0m \u001b[0mpartial_fit\u001b[0m\u001b[0;34m(\u001b[0m\u001b[0mself\u001b[0m\u001b[0;34m,\u001b[0m \u001b[0mX\u001b[0m\u001b[0;34m,\u001b[0m \u001b[0my\u001b[0m\u001b[0;34m=\u001b[0m\u001b[0;32mNone\u001b[0m\u001b[0;34m)\u001b[0m\u001b[0;34m:\u001b[0m\u001b[0;34m\u001b[0m\u001b[0;34m\u001b[0m\u001b[0m\n",
      "\u001b[0;32m/usr/local/anaconda3/lib/python3.7/site-packages/sklearn/preprocessing/_data.py\u001b[0m in \u001b[0;36mpartial_fit\u001b[0;34m(self, X, y)\u001b[0m\n\u001b[1;32m    396\u001b[0m         X = self._validate_data(X, reset=first_pass,\n\u001b[1;32m    397\u001b[0m                                 \u001b[0mestimator\u001b[0m\u001b[0;34m=\u001b[0m\u001b[0mself\u001b[0m\u001b[0;34m,\u001b[0m \u001b[0mdtype\u001b[0m\u001b[0;34m=\u001b[0m\u001b[0mFLOAT_DTYPES\u001b[0m\u001b[0;34m,\u001b[0m\u001b[0;34m\u001b[0m\u001b[0;34m\u001b[0m\u001b[0m\n\u001b[0;32m--> 398\u001b[0;31m                                 force_all_finite=\"allow-nan\")\n\u001b[0m\u001b[1;32m    399\u001b[0m \u001b[0;34m\u001b[0m\u001b[0m\n\u001b[1;32m    400\u001b[0m         \u001b[0mdata_min\u001b[0m \u001b[0;34m=\u001b[0m \u001b[0mnp\u001b[0m\u001b[0;34m.\u001b[0m\u001b[0mnanmin\u001b[0m\u001b[0;34m(\u001b[0m\u001b[0mX\u001b[0m\u001b[0;34m,\u001b[0m \u001b[0maxis\u001b[0m\u001b[0;34m=\u001b[0m\u001b[0;36m0\u001b[0m\u001b[0;34m)\u001b[0m\u001b[0;34m\u001b[0m\u001b[0;34m\u001b[0m\u001b[0m\n",
      "\u001b[0;32m/usr/local/anaconda3/lib/python3.7/site-packages/sklearn/base.py\u001b[0m in \u001b[0;36m_validate_data\u001b[0;34m(self, X, y, reset, validate_separately, **check_params)\u001b[0m\n\u001b[1;32m    419\u001b[0m             \u001b[0mout\u001b[0m \u001b[0;34m=\u001b[0m \u001b[0mX\u001b[0m\u001b[0;34m\u001b[0m\u001b[0;34m\u001b[0m\u001b[0m\n\u001b[1;32m    420\u001b[0m         \u001b[0;32melif\u001b[0m \u001b[0misinstance\u001b[0m\u001b[0;34m(\u001b[0m\u001b[0my\u001b[0m\u001b[0;34m,\u001b[0m \u001b[0mstr\u001b[0m\u001b[0;34m)\u001b[0m \u001b[0;32mand\u001b[0m \u001b[0my\u001b[0m \u001b[0;34m==\u001b[0m \u001b[0;34m'no_validation'\u001b[0m\u001b[0;34m:\u001b[0m\u001b[0;34m\u001b[0m\u001b[0;34m\u001b[0m\u001b[0m\n\u001b[0;32m--> 421\u001b[0;31m             \u001b[0mX\u001b[0m \u001b[0;34m=\u001b[0m \u001b[0mcheck_array\u001b[0m\u001b[0;34m(\u001b[0m\u001b[0mX\u001b[0m\u001b[0;34m,\u001b[0m \u001b[0;34m**\u001b[0m\u001b[0mcheck_params\u001b[0m\u001b[0;34m)\u001b[0m\u001b[0;34m\u001b[0m\u001b[0;34m\u001b[0m\u001b[0m\n\u001b[0m\u001b[1;32m    422\u001b[0m             \u001b[0mout\u001b[0m \u001b[0;34m=\u001b[0m \u001b[0mX\u001b[0m\u001b[0;34m\u001b[0m\u001b[0;34m\u001b[0m\u001b[0m\n\u001b[1;32m    423\u001b[0m         \u001b[0;32melse\u001b[0m\u001b[0;34m:\u001b[0m\u001b[0;34m\u001b[0m\u001b[0;34m\u001b[0m\u001b[0m\n",
      "\u001b[0;32m/usr/local/anaconda3/lib/python3.7/site-packages/sklearn/utils/validation.py\u001b[0m in \u001b[0;36minner_f\u001b[0;34m(*args, **kwargs)\u001b[0m\n\u001b[1;32m     61\u001b[0m             \u001b[0mextra_args\u001b[0m \u001b[0;34m=\u001b[0m \u001b[0mlen\u001b[0m\u001b[0;34m(\u001b[0m\u001b[0margs\u001b[0m\u001b[0;34m)\u001b[0m \u001b[0;34m-\u001b[0m \u001b[0mlen\u001b[0m\u001b[0;34m(\u001b[0m\u001b[0mall_args\u001b[0m\u001b[0;34m)\u001b[0m\u001b[0;34m\u001b[0m\u001b[0;34m\u001b[0m\u001b[0m\n\u001b[1;32m     62\u001b[0m             \u001b[0;32mif\u001b[0m \u001b[0mextra_args\u001b[0m \u001b[0;34m<=\u001b[0m \u001b[0;36m0\u001b[0m\u001b[0;34m:\u001b[0m\u001b[0;34m\u001b[0m\u001b[0;34m\u001b[0m\u001b[0m\n\u001b[0;32m---> 63\u001b[0;31m                 \u001b[0;32mreturn\u001b[0m \u001b[0mf\u001b[0m\u001b[0;34m(\u001b[0m\u001b[0;34m*\u001b[0m\u001b[0margs\u001b[0m\u001b[0;34m,\u001b[0m \u001b[0;34m**\u001b[0m\u001b[0mkwargs\u001b[0m\u001b[0;34m)\u001b[0m\u001b[0;34m\u001b[0m\u001b[0;34m\u001b[0m\u001b[0m\n\u001b[0m\u001b[1;32m     64\u001b[0m \u001b[0;34m\u001b[0m\u001b[0m\n\u001b[1;32m     65\u001b[0m             \u001b[0;31m# extra_args > 0\u001b[0m\u001b[0;34m\u001b[0m\u001b[0;34m\u001b[0m\u001b[0;34m\u001b[0m\u001b[0m\n",
      "\u001b[0;32m/usr/local/anaconda3/lib/python3.7/site-packages/sklearn/utils/validation.py\u001b[0m in \u001b[0;36mcheck_array\u001b[0;34m(array, accept_sparse, accept_large_sparse, dtype, order, copy, force_all_finite, ensure_2d, allow_nd, ensure_min_samples, ensure_min_features, estimator)\u001b[0m\n\u001b[1;32m    639\u001b[0m                     \u001b[0;34m\"Reshape your data either using array.reshape(-1, 1) if \"\u001b[0m\u001b[0;34m\u001b[0m\u001b[0;34m\u001b[0m\u001b[0m\n\u001b[1;32m    640\u001b[0m                     \u001b[0;34m\"your data has a single feature or array.reshape(1, -1) \"\u001b[0m\u001b[0;34m\u001b[0m\u001b[0;34m\u001b[0m\u001b[0m\n\u001b[0;32m--> 641\u001b[0;31m                     \"if it contains a single sample.\".format(array))\n\u001b[0m\u001b[1;32m    642\u001b[0m \u001b[0;34m\u001b[0m\u001b[0m\n\u001b[1;32m    643\u001b[0m         \u001b[0;31m# make sure we actually converted to numeric:\u001b[0m\u001b[0;34m\u001b[0m\u001b[0;34m\u001b[0m\u001b[0;34m\u001b[0m\u001b[0m\n",
      "\u001b[0;31mValueError\u001b[0m: Expected 2D array, got 1D array instead:\narray=[ 8.3  6.7  8.2  8.2 10.8  9.   7.2  8.6  7.   6.7  7.2 10.9  6.5  6.3\n  7.9  6.2  8.5  7.2  7.2  8.2  8.5 10.2  7.8  7.8  9.9  8.   7.6  9.1\n  7.5  9.9  5.6  6.6 10.3  7.8  8.2  7.2 12.2  7.1 12.   8.3  7.2  7.\n  6.5  7.7  9.9 12.4  5.1  5.2  8.   7.9  7.2  7.9  7.6  7.7  7.  10.4\n  7.6  7.5  8.4  7.9  6.1  9.4  7.  10.5  8.3 10.4  9.2  7.4  8.   8.5\n  8.1  8.2  8.9  8.3  7.1  9.   7.8  8.6  6.8  9.1  6.4  6.2 12.5  9.9\n  8.9 11.6  8.6  9.   7.4 11.6  7.1  7.5  7.4  5.4  9.4 12.   7.1 10.\n  7.1  7.2  7.3  7.8 10.5 10.7  9.9  6.4 11.3  8.1  8.6  7.3 11.9  6.5\n  7.4  9.1  8.6  7.8  8.4  7.   7.2 11.8  6.3  7.7 11.5  8.5  7.1  7.8\n  7.6  6.2  8.2  6.   7.4  6.3 12.  10.   7.7  4.7  7.2 10.9 10.4  7.4\n  8.   9.9  7.1 10.6 10.2  7.9  8.9  6.5 10.2  7.5  8.   6.8  7.8  9.7\n  8.4  6.8 10.4  8.1  5.7  8.2  7.3  7.7  5.9 10.1  9.9  8.5  8.3  7.\n  8.3  7.1  6.7  6.2 12.6  6.8  8.   6.9  7.1  9.3  7.8 10.8 10.1  9.3\n  6.8  6.7  9.6  8.4  6.9  9.3 11.5  6.6 13.7  8.3  6.6  7.2  8.8 11.5\n  6.6  7.7  9.2  9.   8.9  7.3 10.7  8.3  8.3  6.8  7.8  6.6  9.1  9.6\n  8.2  6.7  7.2  9.3 10.   6.5  6.5  6.7  6.6  7.   7.6  6.6  6.6  6.2\n  8.1  7.7  6.7  6.4  9.3  7.2  5.9  8.   7.8  8.8  7.9  6.8  8.3  6.8\n 11.9  9.   7.7  6.4  6.9 10.2 10.2  7.9  7.9 11.3  9.3  8.1 12.2  8.\n  9.6  6.4  6.4  7.5  8.1 12.   7.6  7.9  8.7  6.6  7.2 10.5  9.   8.7\n  6.1 10.   6.9  6.7  8.9  7.3 12.4  9.3  8.7  6.8  6.8  7.7  7.1  8.\n  6.6  7.4 12.9  8.3  6.7 12.5  8.   9.9  7.   7.9  9.3  7.7 12.3  7.3\n  7.   8.9  7.3  7.1 10.2  6.1  7.5  7.2  7.   8.6  7.4  8.3 11.2  9.1\n  7.8 11.2  8.8  7.2  7.6  7.1  9.5  7.2  6.7  8.3  7.5 10.2  6.2 12.6\n  8.3 12.  11.   8.6  7.4 10.2  6.4  7.9  8.5 14.   7.1  8.2  7.5  9.2\n  7.7 10.4 12.5  7.7  8.8  7.9  6.7 13.8  8.   8.5  8.2  8.9  5.9  9.6\n  7.1 10.3  9.8 10.2  9.   7.6 12.1  8.2  7.2  7.9  7.3  7.8  9.5  7.2\n 10.8  7.2  7.7  8.7  6.1  7.5  6.8  7.1  9.3  6.9 10.8 11.6  7.   8.1\n  9.   6.3  6.4  7.1  7.2  9.4  6.6  7.2  8.8  9.6  7.2  7.6  8.9  7.2\n 10.4  5.3  7.8 13.7  8.8 10.   9.6 10.   7.9  6.6  9.   8.   8.   8.3\n  8.   8.9  8.3  7.5  8.3 11.  12.   7.6  8.9  9.7  8.2  7.8  5.   7.8\n  7.1  6.8 13.3 11.6  8.8  6.4  8.2  7.9  7.3  8.3  8.1  7.  10.5  6.7\n  5.4  7.8  9.2  7.5  9.1  7.2  9.9  7.1 10.7  7.2  8.8  5.6  9.8  8.7\n  8.2  9.1  8.6  7.6 11.5  7.7  7.1  6.2  5.6  5.2  8.   5.3  7.2  6.8\n  7.6  8.6  8.2  6.3  8.7 10.9 10.2  8.4 10.4  6.8  7.7 10.1  7.4  7.\n  8.4 11.9 10.3  6.7  9.3  8.4  7.8  6.8  6.3  7.1  6.9  8.1  7.7  7.9\n  8.   9.9  6.9  8.2  6.9  8.2  7.6  8.6  7.6  6.6  7.3  7.   8.6 11.4\n  9.1  7.7 15.6  5.   8.2  8.8  5.3  7.1  9.1  7.1  6.8  8.8  7.2  7.1\n  9.1  7.8  8.1  8.9  9.5  7.2  7.4 12.8  6.8  6.1  9.   9.1  6.9  7.5\n  6.8  6.6  9.   9.2 11.2  8.9  8.3  8.   8.4 10.   6.2  7.6  6.9  7.8\n 10.2  7.7  9.1  7.2  7.9  8.8 10.4  7.5  9.9 12.8  8.2  6.5  7.6 11.5\n  7.7  7.5  8.7 10.1  6.4  9.2  7.5  5.8  7.  10.3  7.2  8.2  9.7  8.8\n  6.8  8.7  7.   8.7  8.9  9.   8.8  7.3  6.9  9.1  7.   7.   8.4 10.2\n  8.3  9.2 15.   9.1  7.4 10.2  8.7 10.8  7.2  7.5  7.4  7.8  7.8  7.5\n  5.1 12.5 11.1  5.6  7.7  8.  10.   8.2  5.   9.5  9.4  8.4  7.7  9.9\n  8.3  7.1  9.7 10.6  8.3  8.4  8.2  7.2 11.9  6.1  9.   7.6  7.3  8.1\n  7.3  7.1  9.   9.1  7.5  7.4  6.7  7.9  7.2  6.7  6.6  6.7  7.4  6.5\n  8.8  8.2  9.3  9.6 11.5  7.8 10.6 11.1 10.   6.1  6.7 10.4 11.9  6.4\n  7.4  8.1  7.5  9.4  6.2  9.6  7.2 10.9  7.2  8.8  7.7  7.9  9.4  7.9\n  8.9  7.5  7.7  6.3 11.5 10.2  6.3  6.9 11.5  6.9  7.5  8.8  8.7  7.5\n  7.5 10.5 11.5 12.8  7.1 10.4  7.6  7.6 10.   8.  12.5  7.1  7.   6.\n  6.7  7.6  7.6  6.5  7.1 10.4 12.3  6.8  8.4  6.6  9.5  8.   9.5  8.\n  9.4  7.6 11.5  8.5  8.   8.   6.5 12.4  7.7  9.9  7.4 10.8  6.1 11.6\n 10.4 14.3 10.5  8.9  6.6  8.3  7.   7.3 12.5 10.7  6.6  8.9 12.6  8.9\n  6.4  7.4  7.2 11.4  7.5  5.2 10.2  7.1  7.3  8.   7.8  8.8  6.9  6.8\n  7.9  6.7  7.4  8.4  6.   7.7  6.   7.4  7.   4.9  8.1  8.9  5.6  8.4\n  6.9  7.  12.3  7.9 10.4  5.8 12.7  9.6  7.2 15.6  7.1  7.5 10.6  8.5\n  7.6  9.9  9.1  9.8  5.6  8.7  6.4  6.2  8.3  6.   8.2  7.7  6.9  8.7\n 10.5  8.9  6.8  7.7  8.3  8.6 10.7  7.6  8.3  7.8  9.   7.6  8.8  7.3\n 11.2  8.4  7.3  6.9  9.3  7.2  9.2  6.9  7.7  7.1  7.9  6.7  7.7  7.3\n 11.9  8.   9.2  7.8  7.1  7.   7.  11.1  7.8  7.1  8.6  8.9  9.2  9.7\n  8.8 15.5  8.7  9.4  9.8 10.7 11.6  8.   8.6  8.4  7.  12.2  9.8  7.\n  9.1  8.6  6.9  7.3 10.   8.8  5.   8.2 10.7  7.   7.2  7.7  7.4  9.2\n  7.5  6.7  9.6 10.   7.3  7.8  7.4 11.7  6.5  8.3  9.9  7.3  7.2  5.7\n  6.6  7.1  9.   7.1  9.9  6.2  7.8  5.4  7.5  8.9  7.6  8.2  8.7].\nReshape your data either using array.reshape(-1, 1) if your data has a single feature or array.reshape(1, -1) if it contains a single sample."
     ]
    },
    {
     "ename": "ValueError",
     "evalue": "Expected 2D array, got 1D array instead:\narray=[ 8.3  6.7  8.2  8.2 10.8  9.   7.2  8.6  7.   6.7  7.2 10.9  6.5  6.3\n  7.9  6.2  8.5  7.2  7.2  8.2  8.5 10.2  7.8  7.8  9.9  8.   7.6  9.1\n  7.5  9.9  5.6  6.6 10.3  7.8  8.2  7.2 12.2  7.1 12.   8.3  7.2  7.\n  6.5  7.7  9.9 12.4  5.1  5.2  8.   7.9  7.2  7.9  7.6  7.7  7.  10.4\n  7.6  7.5  8.4  7.9  6.1  9.4  7.  10.5  8.3 10.4  9.2  7.4  8.   8.5\n  8.1  8.2  8.9  8.3  7.1  9.   7.8  8.6  6.8  9.1  6.4  6.2 12.5  9.9\n  8.9 11.6  8.6  9.   7.4 11.6  7.1  7.5  7.4  5.4  9.4 12.   7.1 10.\n  7.1  7.2  7.3  7.8 10.5 10.7  9.9  6.4 11.3  8.1  8.6  7.3 11.9  6.5\n  7.4  9.1  8.6  7.8  8.4  7.   7.2 11.8  6.3  7.7 11.5  8.5  7.1  7.8\n  7.6  6.2  8.2  6.   7.4  6.3 12.  10.   7.7  4.7  7.2 10.9 10.4  7.4\n  8.   9.9  7.1 10.6 10.2  7.9  8.9  6.5 10.2  7.5  8.   6.8  7.8  9.7\n  8.4  6.8 10.4  8.1  5.7  8.2  7.3  7.7  5.9 10.1  9.9  8.5  8.3  7.\n  8.3  7.1  6.7  6.2 12.6  6.8  8.   6.9  7.1  9.3  7.8 10.8 10.1  9.3\n  6.8  6.7  9.6  8.4  6.9  9.3 11.5  6.6 13.7  8.3  6.6  7.2  8.8 11.5\n  6.6  7.7  9.2  9.   8.9  7.3 10.7  8.3  8.3  6.8  7.8  6.6  9.1  9.6\n  8.2  6.7  7.2  9.3 10.   6.5  6.5  6.7  6.6  7.   7.6  6.6  6.6  6.2\n  8.1  7.7  6.7  6.4  9.3  7.2  5.9  8.   7.8  8.8  7.9  6.8  8.3  6.8\n 11.9  9.   7.7  6.4  6.9 10.2 10.2  7.9  7.9 11.3  9.3  8.1 12.2  8.\n  9.6  6.4  6.4  7.5  8.1 12.   7.6  7.9  8.7  6.6  7.2 10.5  9.   8.7\n  6.1 10.   6.9  6.7  8.9  7.3 12.4  9.3  8.7  6.8  6.8  7.7  7.1  8.\n  6.6  7.4 12.9  8.3  6.7 12.5  8.   9.9  7.   7.9  9.3  7.7 12.3  7.3\n  7.   8.9  7.3  7.1 10.2  6.1  7.5  7.2  7.   8.6  7.4  8.3 11.2  9.1\n  7.8 11.2  8.8  7.2  7.6  7.1  9.5  7.2  6.7  8.3  7.5 10.2  6.2 12.6\n  8.3 12.  11.   8.6  7.4 10.2  6.4  7.9  8.5 14.   7.1  8.2  7.5  9.2\n  7.7 10.4 12.5  7.7  8.8  7.9  6.7 13.8  8.   8.5  8.2  8.9  5.9  9.6\n  7.1 10.3  9.8 10.2  9.   7.6 12.1  8.2  7.2  7.9  7.3  7.8  9.5  7.2\n 10.8  7.2  7.7  8.7  6.1  7.5  6.8  7.1  9.3  6.9 10.8 11.6  7.   8.1\n  9.   6.3  6.4  7.1  7.2  9.4  6.6  7.2  8.8  9.6  7.2  7.6  8.9  7.2\n 10.4  5.3  7.8 13.7  8.8 10.   9.6 10.   7.9  6.6  9.   8.   8.   8.3\n  8.   8.9  8.3  7.5  8.3 11.  12.   7.6  8.9  9.7  8.2  7.8  5.   7.8\n  7.1  6.8 13.3 11.6  8.8  6.4  8.2  7.9  7.3  8.3  8.1  7.  10.5  6.7\n  5.4  7.8  9.2  7.5  9.1  7.2  9.9  7.1 10.7  7.2  8.8  5.6  9.8  8.7\n  8.2  9.1  8.6  7.6 11.5  7.7  7.1  6.2  5.6  5.2  8.   5.3  7.2  6.8\n  7.6  8.6  8.2  6.3  8.7 10.9 10.2  8.4 10.4  6.8  7.7 10.1  7.4  7.\n  8.4 11.9 10.3  6.7  9.3  8.4  7.8  6.8  6.3  7.1  6.9  8.1  7.7  7.9\n  8.   9.9  6.9  8.2  6.9  8.2  7.6  8.6  7.6  6.6  7.3  7.   8.6 11.4\n  9.1  7.7 15.6  5.   8.2  8.8  5.3  7.1  9.1  7.1  6.8  8.8  7.2  7.1\n  9.1  7.8  8.1  8.9  9.5  7.2  7.4 12.8  6.8  6.1  9.   9.1  6.9  7.5\n  6.8  6.6  9.   9.2 11.2  8.9  8.3  8.   8.4 10.   6.2  7.6  6.9  7.8\n 10.2  7.7  9.1  7.2  7.9  8.8 10.4  7.5  9.9 12.8  8.2  6.5  7.6 11.5\n  7.7  7.5  8.7 10.1  6.4  9.2  7.5  5.8  7.  10.3  7.2  8.2  9.7  8.8\n  6.8  8.7  7.   8.7  8.9  9.   8.8  7.3  6.9  9.1  7.   7.   8.4 10.2\n  8.3  9.2 15.   9.1  7.4 10.2  8.7 10.8  7.2  7.5  7.4  7.8  7.8  7.5\n  5.1 12.5 11.1  5.6  7.7  8.  10.   8.2  5.   9.5  9.4  8.4  7.7  9.9\n  8.3  7.1  9.7 10.6  8.3  8.4  8.2  7.2 11.9  6.1  9.   7.6  7.3  8.1\n  7.3  7.1  9.   9.1  7.5  7.4  6.7  7.9  7.2  6.7  6.6  6.7  7.4  6.5\n  8.8  8.2  9.3  9.6 11.5  7.8 10.6 11.1 10.   6.1  6.7 10.4 11.9  6.4\n  7.4  8.1  7.5  9.4  6.2  9.6  7.2 10.9  7.2  8.8  7.7  7.9  9.4  7.9\n  8.9  7.5  7.7  6.3 11.5 10.2  6.3  6.9 11.5  6.9  7.5  8.8  8.7  7.5\n  7.5 10.5 11.5 12.8  7.1 10.4  7.6  7.6 10.   8.  12.5  7.1  7.   6.\n  6.7  7.6  7.6  6.5  7.1 10.4 12.3  6.8  8.4  6.6  9.5  8.   9.5  8.\n  9.4  7.6 11.5  8.5  8.   8.   6.5 12.4  7.7  9.9  7.4 10.8  6.1 11.6\n 10.4 14.3 10.5  8.9  6.6  8.3  7.   7.3 12.5 10.7  6.6  8.9 12.6  8.9\n  6.4  7.4  7.2 11.4  7.5  5.2 10.2  7.1  7.3  8.   7.8  8.8  6.9  6.8\n  7.9  6.7  7.4  8.4  6.   7.7  6.   7.4  7.   4.9  8.1  8.9  5.6  8.4\n  6.9  7.  12.3  7.9 10.4  5.8 12.7  9.6  7.2 15.6  7.1  7.5 10.6  8.5\n  7.6  9.9  9.1  9.8  5.6  8.7  6.4  6.2  8.3  6.   8.2  7.7  6.9  8.7\n 10.5  8.9  6.8  7.7  8.3  8.6 10.7  7.6  8.3  7.8  9.   7.6  8.8  7.3\n 11.2  8.4  7.3  6.9  9.3  7.2  9.2  6.9  7.7  7.1  7.9  6.7  7.7  7.3\n 11.9  8.   9.2  7.8  7.1  7.   7.  11.1  7.8  7.1  8.6  8.9  9.2  9.7\n  8.8 15.5  8.7  9.4  9.8 10.7 11.6  8.   8.6  8.4  7.  12.2  9.8  7.\n  9.1  8.6  6.9  7.3 10.   8.8  5.   8.2 10.7  7.   7.2  7.7  7.4  9.2\n  7.5  6.7  9.6 10.   7.3  7.8  7.4 11.7  6.5  8.3  9.9  7.3  7.2  5.7\n  6.6  7.1  9.   7.1  9.9  6.2  7.8  5.4  7.5  8.9  7.6  8.2  8.7].\nReshape your data either using array.reshape(-1, 1) if your data has a single feature or array.reshape(1, -1) if it contains a single sample.",
     "output_type": "error",
     "traceback": [
      "\u001b[0;31m---------------------------------------------------------------------------\u001b[0m",
      "\u001b[0;31mValueError\u001b[0m                                Traceback (most recent call last)",
      "\u001b[0;32m<ipython-input-57-7432ed983719>\u001b[0m in \u001b[0;36m<module>\u001b[0;34m\u001b[0m\n\u001b[1;32m      5\u001b[0m     \u001b[0;32mfor\u001b[0m \u001b[0mtrain_col\u001b[0m \u001b[0;32min\u001b[0m \u001b[0mtrain\u001b[0m\u001b[0;34m:\u001b[0m\u001b[0;34m\u001b[0m\u001b[0;34m\u001b[0m\u001b[0m\n\u001b[1;32m      6\u001b[0m         \u001b[0;32mif\u001b[0m \u001b[0;34m(\u001b[0m\u001b[0mtrain_col\u001b[0m\u001b[0;34m[\u001b[0m\u001b[0;34m-\u001b[0m\u001b[0;36m2\u001b[0m\u001b[0;34m:\u001b[0m\u001b[0;34m]\u001b[0m \u001b[0;34m==\u001b[0m \u001b[0;34m'_s'\u001b[0m\u001b[0;34m)\u001b[0m \u001b[0;34m&\u001b[0m \u001b[0;34m(\u001b[0m\u001b[0mtrain_col\u001b[0m\u001b[0;34m[\u001b[0m\u001b[0;34m:\u001b[0m\u001b[0;34m-\u001b[0m\u001b[0;36m2\u001b[0m\u001b[0;34m]\u001b[0m \u001b[0;34m==\u001b[0m \u001b[0mcol\u001b[0m\u001b[0;34m)\u001b[0m\u001b[0;34m:\u001b[0m\u001b[0;34m\u001b[0m\u001b[0;34m\u001b[0m\u001b[0m\n\u001b[0;32m----> 7\u001b[0;31m             \u001b[0mtrain\u001b[0m\u001b[0;34m[\u001b[0m\u001b[0mtrain_col\u001b[0m\u001b[0;34m]\u001b[0m \u001b[0;34m=\u001b[0m \u001b[0mscaler\u001b[0m\u001b[0;34m.\u001b[0m\u001b[0mfit_transform\u001b[0m\u001b[0;34m(\u001b[0m\u001b[0mtrain\u001b[0m\u001b[0;34m[\u001b[0m\u001b[0mcol\u001b[0m\u001b[0;34m]\u001b[0m\u001b[0;34m)\u001b[0m\u001b[0;34m\u001b[0m\u001b[0;34m\u001b[0m\u001b[0m\n\u001b[0m",
      "\u001b[0;32m/usr/local/anaconda3/lib/python3.7/site-packages/sklearn/base.py\u001b[0m in \u001b[0;36mfit_transform\u001b[0;34m(self, X, y, **fit_params)\u001b[0m\n\u001b[1;32m    697\u001b[0m         \u001b[0;32mif\u001b[0m \u001b[0my\u001b[0m \u001b[0;32mis\u001b[0m \u001b[0;32mNone\u001b[0m\u001b[0;34m:\u001b[0m\u001b[0;34m\u001b[0m\u001b[0;34m\u001b[0m\u001b[0m\n\u001b[1;32m    698\u001b[0m             \u001b[0;31m# fit method of arity 1 (unsupervised transformation)\u001b[0m\u001b[0;34m\u001b[0m\u001b[0;34m\u001b[0m\u001b[0;34m\u001b[0m\u001b[0m\n\u001b[0;32m--> 699\u001b[0;31m             \u001b[0;32mreturn\u001b[0m \u001b[0mself\u001b[0m\u001b[0;34m.\u001b[0m\u001b[0mfit\u001b[0m\u001b[0;34m(\u001b[0m\u001b[0mX\u001b[0m\u001b[0;34m,\u001b[0m \u001b[0;34m**\u001b[0m\u001b[0mfit_params\u001b[0m\u001b[0;34m)\u001b[0m\u001b[0;34m.\u001b[0m\u001b[0mtransform\u001b[0m\u001b[0;34m(\u001b[0m\u001b[0mX\u001b[0m\u001b[0;34m)\u001b[0m\u001b[0;34m\u001b[0m\u001b[0;34m\u001b[0m\u001b[0m\n\u001b[0m\u001b[1;32m    700\u001b[0m         \u001b[0;32melse\u001b[0m\u001b[0;34m:\u001b[0m\u001b[0;34m\u001b[0m\u001b[0;34m\u001b[0m\u001b[0m\n\u001b[1;32m    701\u001b[0m             \u001b[0;31m# fit method of arity 2 (supervised transformation)\u001b[0m\u001b[0;34m\u001b[0m\u001b[0;34m\u001b[0m\u001b[0;34m\u001b[0m\u001b[0m\n",
      "\u001b[0;32m/usr/local/anaconda3/lib/python3.7/site-packages/sklearn/preprocessing/_data.py\u001b[0m in \u001b[0;36mfit\u001b[0;34m(self, X, y)\u001b[0m\n\u001b[1;32m    361\u001b[0m         \u001b[0;31m# Reset internal state before fitting\u001b[0m\u001b[0;34m\u001b[0m\u001b[0;34m\u001b[0m\u001b[0;34m\u001b[0m\u001b[0m\n\u001b[1;32m    362\u001b[0m         \u001b[0mself\u001b[0m\u001b[0;34m.\u001b[0m\u001b[0m_reset\u001b[0m\u001b[0;34m(\u001b[0m\u001b[0;34m)\u001b[0m\u001b[0;34m\u001b[0m\u001b[0;34m\u001b[0m\u001b[0m\n\u001b[0;32m--> 363\u001b[0;31m         \u001b[0;32mreturn\u001b[0m \u001b[0mself\u001b[0m\u001b[0;34m.\u001b[0m\u001b[0mpartial_fit\u001b[0m\u001b[0;34m(\u001b[0m\u001b[0mX\u001b[0m\u001b[0;34m,\u001b[0m \u001b[0my\u001b[0m\u001b[0;34m)\u001b[0m\u001b[0;34m\u001b[0m\u001b[0;34m\u001b[0m\u001b[0m\n\u001b[0m\u001b[1;32m    364\u001b[0m \u001b[0;34m\u001b[0m\u001b[0m\n\u001b[1;32m    365\u001b[0m     \u001b[0;32mdef\u001b[0m \u001b[0mpartial_fit\u001b[0m\u001b[0;34m(\u001b[0m\u001b[0mself\u001b[0m\u001b[0;34m,\u001b[0m \u001b[0mX\u001b[0m\u001b[0;34m,\u001b[0m \u001b[0my\u001b[0m\u001b[0;34m=\u001b[0m\u001b[0;32mNone\u001b[0m\u001b[0;34m)\u001b[0m\u001b[0;34m:\u001b[0m\u001b[0;34m\u001b[0m\u001b[0;34m\u001b[0m\u001b[0m\n",
      "\u001b[0;32m/usr/local/anaconda3/lib/python3.7/site-packages/sklearn/preprocessing/_data.py\u001b[0m in \u001b[0;36mpartial_fit\u001b[0;34m(self, X, y)\u001b[0m\n\u001b[1;32m    396\u001b[0m         X = self._validate_data(X, reset=first_pass,\n\u001b[1;32m    397\u001b[0m                                 \u001b[0mestimator\u001b[0m\u001b[0;34m=\u001b[0m\u001b[0mself\u001b[0m\u001b[0;34m,\u001b[0m \u001b[0mdtype\u001b[0m\u001b[0;34m=\u001b[0m\u001b[0mFLOAT_DTYPES\u001b[0m\u001b[0;34m,\u001b[0m\u001b[0;34m\u001b[0m\u001b[0;34m\u001b[0m\u001b[0m\n\u001b[0;32m--> 398\u001b[0;31m                                 force_all_finite=\"allow-nan\")\n\u001b[0m\u001b[1;32m    399\u001b[0m \u001b[0;34m\u001b[0m\u001b[0m\n\u001b[1;32m    400\u001b[0m         \u001b[0mdata_min\u001b[0m \u001b[0;34m=\u001b[0m \u001b[0mnp\u001b[0m\u001b[0;34m.\u001b[0m\u001b[0mnanmin\u001b[0m\u001b[0;34m(\u001b[0m\u001b[0mX\u001b[0m\u001b[0;34m,\u001b[0m \u001b[0maxis\u001b[0m\u001b[0;34m=\u001b[0m\u001b[0;36m0\u001b[0m\u001b[0;34m)\u001b[0m\u001b[0;34m\u001b[0m\u001b[0;34m\u001b[0m\u001b[0m\n",
      "\u001b[0;32m/usr/local/anaconda3/lib/python3.7/site-packages/sklearn/base.py\u001b[0m in \u001b[0;36m_validate_data\u001b[0;34m(self, X, y, reset, validate_separately, **check_params)\u001b[0m\n\u001b[1;32m    419\u001b[0m             \u001b[0mout\u001b[0m \u001b[0;34m=\u001b[0m \u001b[0mX\u001b[0m\u001b[0;34m\u001b[0m\u001b[0;34m\u001b[0m\u001b[0m\n\u001b[1;32m    420\u001b[0m         \u001b[0;32melif\u001b[0m \u001b[0misinstance\u001b[0m\u001b[0;34m(\u001b[0m\u001b[0my\u001b[0m\u001b[0;34m,\u001b[0m \u001b[0mstr\u001b[0m\u001b[0;34m)\u001b[0m \u001b[0;32mand\u001b[0m \u001b[0my\u001b[0m \u001b[0;34m==\u001b[0m \u001b[0;34m'no_validation'\u001b[0m\u001b[0;34m:\u001b[0m\u001b[0;34m\u001b[0m\u001b[0;34m\u001b[0m\u001b[0m\n\u001b[0;32m--> 421\u001b[0;31m             \u001b[0mX\u001b[0m \u001b[0;34m=\u001b[0m \u001b[0mcheck_array\u001b[0m\u001b[0;34m(\u001b[0m\u001b[0mX\u001b[0m\u001b[0;34m,\u001b[0m \u001b[0;34m**\u001b[0m\u001b[0mcheck_params\u001b[0m\u001b[0;34m)\u001b[0m\u001b[0;34m\u001b[0m\u001b[0;34m\u001b[0m\u001b[0m\n\u001b[0m\u001b[1;32m    422\u001b[0m             \u001b[0mout\u001b[0m \u001b[0;34m=\u001b[0m \u001b[0mX\u001b[0m\u001b[0;34m\u001b[0m\u001b[0;34m\u001b[0m\u001b[0m\n\u001b[1;32m    423\u001b[0m         \u001b[0;32melse\u001b[0m\u001b[0;34m:\u001b[0m\u001b[0;34m\u001b[0m\u001b[0;34m\u001b[0m\u001b[0m\n",
      "\u001b[0;32m/usr/local/anaconda3/lib/python3.7/site-packages/sklearn/utils/validation.py\u001b[0m in \u001b[0;36minner_f\u001b[0;34m(*args, **kwargs)\u001b[0m\n\u001b[1;32m     61\u001b[0m             \u001b[0mextra_args\u001b[0m \u001b[0;34m=\u001b[0m \u001b[0mlen\u001b[0m\u001b[0;34m(\u001b[0m\u001b[0margs\u001b[0m\u001b[0;34m)\u001b[0m \u001b[0;34m-\u001b[0m \u001b[0mlen\u001b[0m\u001b[0;34m(\u001b[0m\u001b[0mall_args\u001b[0m\u001b[0;34m)\u001b[0m\u001b[0;34m\u001b[0m\u001b[0;34m\u001b[0m\u001b[0m\n\u001b[1;32m     62\u001b[0m             \u001b[0;32mif\u001b[0m \u001b[0mextra_args\u001b[0m \u001b[0;34m<=\u001b[0m \u001b[0;36m0\u001b[0m\u001b[0;34m:\u001b[0m\u001b[0;34m\u001b[0m\u001b[0;34m\u001b[0m\u001b[0m\n\u001b[0;32m---> 63\u001b[0;31m                 \u001b[0;32mreturn\u001b[0m \u001b[0mf\u001b[0m\u001b[0;34m(\u001b[0m\u001b[0;34m*\u001b[0m\u001b[0margs\u001b[0m\u001b[0;34m,\u001b[0m \u001b[0;34m**\u001b[0m\u001b[0mkwargs\u001b[0m\u001b[0;34m)\u001b[0m\u001b[0;34m\u001b[0m\u001b[0;34m\u001b[0m\u001b[0m\n\u001b[0m\u001b[1;32m     64\u001b[0m \u001b[0;34m\u001b[0m\u001b[0m\n\u001b[1;32m     65\u001b[0m             \u001b[0;31m# extra_args > 0\u001b[0m\u001b[0;34m\u001b[0m\u001b[0;34m\u001b[0m\u001b[0;34m\u001b[0m\u001b[0m\n",
      "\u001b[0;32m/usr/local/anaconda3/lib/python3.7/site-packages/sklearn/utils/validation.py\u001b[0m in \u001b[0;36mcheck_array\u001b[0;34m(array, accept_sparse, accept_large_sparse, dtype, order, copy, force_all_finite, ensure_2d, allow_nd, ensure_min_samples, ensure_min_features, estimator)\u001b[0m\n\u001b[1;32m    639\u001b[0m                     \u001b[0;34m\"Reshape your data either using array.reshape(-1, 1) if \"\u001b[0m\u001b[0;34m\u001b[0m\u001b[0;34m\u001b[0m\u001b[0m\n\u001b[1;32m    640\u001b[0m                     \u001b[0;34m\"your data has a single feature or array.reshape(1, -1) \"\u001b[0m\u001b[0;34m\u001b[0m\u001b[0;34m\u001b[0m\u001b[0m\n\u001b[0;32m--> 641\u001b[0;31m                     \"if it contains a single sample.\".format(array))\n\u001b[0m\u001b[1;32m    642\u001b[0m \u001b[0;34m\u001b[0m\u001b[0m\n\u001b[1;32m    643\u001b[0m         \u001b[0;31m# make sure we actually converted to numeric:\u001b[0m\u001b[0;34m\u001b[0m\u001b[0;34m\u001b[0m\u001b[0;34m\u001b[0m\u001b[0m\n",
      "\u001b[0;31mValueError\u001b[0m: Expected 2D array, got 1D array instead:\narray=[ 8.3  6.7  8.2  8.2 10.8  9.   7.2  8.6  7.   6.7  7.2 10.9  6.5  6.3\n  7.9  6.2  8.5  7.2  7.2  8.2  8.5 10.2  7.8  7.8  9.9  8.   7.6  9.1\n  7.5  9.9  5.6  6.6 10.3  7.8  8.2  7.2 12.2  7.1 12.   8.3  7.2  7.\n  6.5  7.7  9.9 12.4  5.1  5.2  8.   7.9  7.2  7.9  7.6  7.7  7.  10.4\n  7.6  7.5  8.4  7.9  6.1  9.4  7.  10.5  8.3 10.4  9.2  7.4  8.   8.5\n  8.1  8.2  8.9  8.3  7.1  9.   7.8  8.6  6.8  9.1  6.4  6.2 12.5  9.9\n  8.9 11.6  8.6  9.   7.4 11.6  7.1  7.5  7.4  5.4  9.4 12.   7.1 10.\n  7.1  7.2  7.3  7.8 10.5 10.7  9.9  6.4 11.3  8.1  8.6  7.3 11.9  6.5\n  7.4  9.1  8.6  7.8  8.4  7.   7.2 11.8  6.3  7.7 11.5  8.5  7.1  7.8\n  7.6  6.2  8.2  6.   7.4  6.3 12.  10.   7.7  4.7  7.2 10.9 10.4  7.4\n  8.   9.9  7.1 10.6 10.2  7.9  8.9  6.5 10.2  7.5  8.   6.8  7.8  9.7\n  8.4  6.8 10.4  8.1  5.7  8.2  7.3  7.7  5.9 10.1  9.9  8.5  8.3  7.\n  8.3  7.1  6.7  6.2 12.6  6.8  8.   6.9  7.1  9.3  7.8 10.8 10.1  9.3\n  6.8  6.7  9.6  8.4  6.9  9.3 11.5  6.6 13.7  8.3  6.6  7.2  8.8 11.5\n  6.6  7.7  9.2  9.   8.9  7.3 10.7  8.3  8.3  6.8  7.8  6.6  9.1  9.6\n  8.2  6.7  7.2  9.3 10.   6.5  6.5  6.7  6.6  7.   7.6  6.6  6.6  6.2\n  8.1  7.7  6.7  6.4  9.3  7.2  5.9  8.   7.8  8.8  7.9  6.8  8.3  6.8\n 11.9  9.   7.7  6.4  6.9 10.2 10.2  7.9  7.9 11.3  9.3  8.1 12.2  8.\n  9.6  6.4  6.4  7.5  8.1 12.   7.6  7.9  8.7  6.6  7.2 10.5  9.   8.7\n  6.1 10.   6.9  6.7  8.9  7.3 12.4  9.3  8.7  6.8  6.8  7.7  7.1  8.\n  6.6  7.4 12.9  8.3  6.7 12.5  8.   9.9  7.   7.9  9.3  7.7 12.3  7.3\n  7.   8.9  7.3  7.1 10.2  6.1  7.5  7.2  7.   8.6  7.4  8.3 11.2  9.1\n  7.8 11.2  8.8  7.2  7.6  7.1  9.5  7.2  6.7  8.3  7.5 10.2  6.2 12.6\n  8.3 12.  11.   8.6  7.4 10.2  6.4  7.9  8.5 14.   7.1  8.2  7.5  9.2\n  7.7 10.4 12.5  7.7  8.8  7.9  6.7 13.8  8.   8.5  8.2  8.9  5.9  9.6\n  7.1 10.3  9.8 10.2  9.   7.6 12.1  8.2  7.2  7.9  7.3  7.8  9.5  7.2\n 10.8  7.2  7.7  8.7  6.1  7.5  6.8  7.1  9.3  6.9 10.8 11.6  7.   8.1\n  9.   6.3  6.4  7.1  7.2  9.4  6.6  7.2  8.8  9.6  7.2  7.6  8.9  7.2\n 10.4  5.3  7.8 13.7  8.8 10.   9.6 10.   7.9  6.6  9.   8.   8.   8.3\n  8.   8.9  8.3  7.5  8.3 11.  12.   7.6  8.9  9.7  8.2  7.8  5.   7.8\n  7.1  6.8 13.3 11.6  8.8  6.4  8.2  7.9  7.3  8.3  8.1  7.  10.5  6.7\n  5.4  7.8  9.2  7.5  9.1  7.2  9.9  7.1 10.7  7.2  8.8  5.6  9.8  8.7\n  8.2  9.1  8.6  7.6 11.5  7.7  7.1  6.2  5.6  5.2  8.   5.3  7.2  6.8\n  7.6  8.6  8.2  6.3  8.7 10.9 10.2  8.4 10.4  6.8  7.7 10.1  7.4  7.\n  8.4 11.9 10.3  6.7  9.3  8.4  7.8  6.8  6.3  7.1  6.9  8.1  7.7  7.9\n  8.   9.9  6.9  8.2  6.9  8.2  7.6  8.6  7.6  6.6  7.3  7.   8.6 11.4\n  9.1  7.7 15.6  5.   8.2  8.8  5.3  7.1  9.1  7.1  6.8  8.8  7.2  7.1\n  9.1  7.8  8.1  8.9  9.5  7.2  7.4 12.8  6.8  6.1  9.   9.1  6.9  7.5\n  6.8  6.6  9.   9.2 11.2  8.9  8.3  8.   8.4 10.   6.2  7.6  6.9  7.8\n 10.2  7.7  9.1  7.2  7.9  8.8 10.4  7.5  9.9 12.8  8.2  6.5  7.6 11.5\n  7.7  7.5  8.7 10.1  6.4  9.2  7.5  5.8  7.  10.3  7.2  8.2  9.7  8.8\n  6.8  8.7  7.   8.7  8.9  9.   8.8  7.3  6.9  9.1  7.   7.   8.4 10.2\n  8.3  9.2 15.   9.1  7.4 10.2  8.7 10.8  7.2  7.5  7.4  7.8  7.8  7.5\n  5.1 12.5 11.1  5.6  7.7  8.  10.   8.2  5.   9.5  9.4  8.4  7.7  9.9\n  8.3  7.1  9.7 10.6  8.3  8.4  8.2  7.2 11.9  6.1  9.   7.6  7.3  8.1\n  7.3  7.1  9.   9.1  7.5  7.4  6.7  7.9  7.2  6.7  6.6  6.7  7.4  6.5\n  8.8  8.2  9.3  9.6 11.5  7.8 10.6 11.1 10.   6.1  6.7 10.4 11.9  6.4\n  7.4  8.1  7.5  9.4  6.2  9.6  7.2 10.9  7.2  8.8  7.7  7.9  9.4  7.9\n  8.9  7.5  7.7  6.3 11.5 10.2  6.3  6.9 11.5  6.9  7.5  8.8  8.7  7.5\n  7.5 10.5 11.5 12.8  7.1 10.4  7.6  7.6 10.   8.  12.5  7.1  7.   6.\n  6.7  7.6  7.6  6.5  7.1 10.4 12.3  6.8  8.4  6.6  9.5  8.   9.5  8.\n  9.4  7.6 11.5  8.5  8.   8.   6.5 12.4  7.7  9.9  7.4 10.8  6.1 11.6\n 10.4 14.3 10.5  8.9  6.6  8.3  7.   7.3 12.5 10.7  6.6  8.9 12.6  8.9\n  6.4  7.4  7.2 11.4  7.5  5.2 10.2  7.1  7.3  8.   7.8  8.8  6.9  6.8\n  7.9  6.7  7.4  8.4  6.   7.7  6.   7.4  7.   4.9  8.1  8.9  5.6  8.4\n  6.9  7.  12.3  7.9 10.4  5.8 12.7  9.6  7.2 15.6  7.1  7.5 10.6  8.5\n  7.6  9.9  9.1  9.8  5.6  8.7  6.4  6.2  8.3  6.   8.2  7.7  6.9  8.7\n 10.5  8.9  6.8  7.7  8.3  8.6 10.7  7.6  8.3  7.8  9.   7.6  8.8  7.3\n 11.2  8.4  7.3  6.9  9.3  7.2  9.2  6.9  7.7  7.1  7.9  6.7  7.7  7.3\n 11.9  8.   9.2  7.8  7.1  7.   7.  11.1  7.8  7.1  8.6  8.9  9.2  9.7\n  8.8 15.5  8.7  9.4  9.8 10.7 11.6  8.   8.6  8.4  7.  12.2  9.8  7.\n  9.1  8.6  6.9  7.3 10.   8.8  5.   8.2 10.7  7.   7.2  7.7  7.4  9.2\n  7.5  6.7  9.6 10.   7.3  7.8  7.4 11.7  6.5  8.3  9.9  7.3  7.2  5.7\n  6.6  7.1  9.   7.1  9.9  6.2  7.8  5.4  7.5  8.9  7.6  8.2  8.7].\nReshape your data either using array.reshape(-1, 1) if your data has a single feature or array.reshape(1, -1) if it contains a single sample."
     ]
    }
   ],
   "source": [
    "# creating scaler object\n",
    "scaler = sklearn.preprocessing.MinMaxScaler()\n",
    "\n",
    "for col in col_to_scale:\n",
    "    for train_col in train:\n",
    "        if (train_col[-2:] == '_s') & (train_col[:-2] == col):\n",
    "            train[train_col] = scaler.fit_transform(train[col])"
   ]
  },
  {
   "cell_type": "code",
   "execution_count": null,
   "metadata": {},
   "outputs": [],
   "source": [
    "# fitting scaler to train column and scaling after\n",
    "train[col_scaled_names] = scaler.fit_transform(train[col_to_scale])\n",
    "\n",
    "# scaling data in validate and test dataframes\n",
    "validate[col_scaled_names] = scaler.transform(validate[col_to_scale])\n",
    "test[col_scaled_names] = scaler.transform(test[col_to_scale])"
   ]
  },
  {
   "cell_type": "code",
   "execution_count": 12,
   "metadata": {},
   "outputs": [],
   "source": [
    "# creating scaler object\n",
    "scaler = sklearn.preprocessing.MinMaxScaler()\n",
    "\n",
    "# creating dict of dfs to iterate upon\n",
    "# useful for being able to check df names during loops\n",
    "wine_d = {'train' : train, 'validate': validate, 'test': test}\n",
    "\n",
    "# creating cols that will hold scaled values\n",
    "for df in wine_d:\n",
    "    for col in col_to_scale:\n",
    "        wine_d[df][col + '_s'] = 0"
   ]
  },
  {
   "cell_type": "code",
   "execution_count": null,
   "metadata": {},
   "outputs": [],
   "source": [
    "# fitting scaler to train column and scaling after\n",
    "train[col_scaled_names] = scaler.fit_transform(train[col_to_scale])\n",
    "\n",
    "# scaling data in validate and test dataframes\n",
    "validate[col_scaled_names] = scaler.transform(validate[col_to_scale])\n",
    "test[col_scaled_names] = scaler.transform(test[col_to_scale])"
   ]
  },
  {
   "cell_type": "code",
   "execution_count": 52,
   "metadata": {
    "scrolled": true
   },
   "outputs": [
    {
     "ename": "ValueError",
     "evalue": "Expected 2D array, got 1D array instead:\narray=[ 8.3  6.7  8.2  8.2 10.8  9.   7.2  8.6  7.   6.7  7.2 10.9  6.5  6.3\n  7.9  6.2  8.5  7.2  7.2  8.2  8.5 10.2  7.8  7.8  9.9  8.   7.6  9.1\n  7.5  9.9  5.6  6.6 10.3  7.8  8.2  7.2 12.2  7.1 12.   8.3  7.2  7.\n  6.5  7.7  9.9 12.4  5.1  5.2  8.   7.9  7.2  7.9  7.6  7.7  7.  10.4\n  7.6  7.5  8.4  7.9  6.1  9.4  7.  10.5  8.3 10.4  9.2  7.4  8.   8.5\n  8.1  8.2  8.9  8.3  7.1  9.   7.8  8.6  6.8  9.1  6.4  6.2 12.5  9.9\n  8.9 11.6  8.6  9.   7.4 11.6  7.1  7.5  7.4  5.4  9.4 12.   7.1 10.\n  7.1  7.2  7.3  7.8 10.5 10.7  9.9  6.4 11.3  8.1  8.6  7.3 11.9  6.5\n  7.4  9.1  8.6  7.8  8.4  7.   7.2 11.8  6.3  7.7 11.5  8.5  7.1  7.8\n  7.6  6.2  8.2  6.   7.4  6.3 12.  10.   7.7  4.7  7.2 10.9 10.4  7.4\n  8.   9.9  7.1 10.6 10.2  7.9  8.9  6.5 10.2  7.5  8.   6.8  7.8  9.7\n  8.4  6.8 10.4  8.1  5.7  8.2  7.3  7.7  5.9 10.1  9.9  8.5  8.3  7.\n  8.3  7.1  6.7  6.2 12.6  6.8  8.   6.9  7.1  9.3  7.8 10.8 10.1  9.3\n  6.8  6.7  9.6  8.4  6.9  9.3 11.5  6.6 13.7  8.3  6.6  7.2  8.8 11.5\n  6.6  7.7  9.2  9.   8.9  7.3 10.7  8.3  8.3  6.8  7.8  6.6  9.1  9.6\n  8.2  6.7  7.2  9.3 10.   6.5  6.5  6.7  6.6  7.   7.6  6.6  6.6  6.2\n  8.1  7.7  6.7  6.4  9.3  7.2  5.9  8.   7.8  8.8  7.9  6.8  8.3  6.8\n 11.9  9.   7.7  6.4  6.9 10.2 10.2  7.9  7.9 11.3  9.3  8.1 12.2  8.\n  9.6  6.4  6.4  7.5  8.1 12.   7.6  7.9  8.7  6.6  7.2 10.5  9.   8.7\n  6.1 10.   6.9  6.7  8.9  7.3 12.4  9.3  8.7  6.8  6.8  7.7  7.1  8.\n  6.6  7.4 12.9  8.3  6.7 12.5  8.   9.9  7.   7.9  9.3  7.7 12.3  7.3\n  7.   8.9  7.3  7.1 10.2  6.1  7.5  7.2  7.   8.6  7.4  8.3 11.2  9.1\n  7.8 11.2  8.8  7.2  7.6  7.1  9.5  7.2  6.7  8.3  7.5 10.2  6.2 12.6\n  8.3 12.  11.   8.6  7.4 10.2  6.4  7.9  8.5 14.   7.1  8.2  7.5  9.2\n  7.7 10.4 12.5  7.7  8.8  7.9  6.7 13.8  8.   8.5  8.2  8.9  5.9  9.6\n  7.1 10.3  9.8 10.2  9.   7.6 12.1  8.2  7.2  7.9  7.3  7.8  9.5  7.2\n 10.8  7.2  7.7  8.7  6.1  7.5  6.8  7.1  9.3  6.9 10.8 11.6  7.   8.1\n  9.   6.3  6.4  7.1  7.2  9.4  6.6  7.2  8.8  9.6  7.2  7.6  8.9  7.2\n 10.4  5.3  7.8 13.7  8.8 10.   9.6 10.   7.9  6.6  9.   8.   8.   8.3\n  8.   8.9  8.3  7.5  8.3 11.  12.   7.6  8.9  9.7  8.2  7.8  5.   7.8\n  7.1  6.8 13.3 11.6  8.8  6.4  8.2  7.9  7.3  8.3  8.1  7.  10.5  6.7\n  5.4  7.8  9.2  7.5  9.1  7.2  9.9  7.1 10.7  7.2  8.8  5.6  9.8  8.7\n  8.2  9.1  8.6  7.6 11.5  7.7  7.1  6.2  5.6  5.2  8.   5.3  7.2  6.8\n  7.6  8.6  8.2  6.3  8.7 10.9 10.2  8.4 10.4  6.8  7.7 10.1  7.4  7.\n  8.4 11.9 10.3  6.7  9.3  8.4  7.8  6.8  6.3  7.1  6.9  8.1  7.7  7.9\n  8.   9.9  6.9  8.2  6.9  8.2  7.6  8.6  7.6  6.6  7.3  7.   8.6 11.4\n  9.1  7.7 15.6  5.   8.2  8.8  5.3  7.1  9.1  7.1  6.8  8.8  7.2  7.1\n  9.1  7.8  8.1  8.9  9.5  7.2  7.4 12.8  6.8  6.1  9.   9.1  6.9  7.5\n  6.8  6.6  9.   9.2 11.2  8.9  8.3  8.   8.4 10.   6.2  7.6  6.9  7.8\n 10.2  7.7  9.1  7.2  7.9  8.8 10.4  7.5  9.9 12.8  8.2  6.5  7.6 11.5\n  7.7  7.5  8.7 10.1  6.4  9.2  7.5  5.8  7.  10.3  7.2  8.2  9.7  8.8\n  6.8  8.7  7.   8.7  8.9  9.   8.8  7.3  6.9  9.1  7.   7.   8.4 10.2\n  8.3  9.2 15.   9.1  7.4 10.2  8.7 10.8  7.2  7.5  7.4  7.8  7.8  7.5\n  5.1 12.5 11.1  5.6  7.7  8.  10.   8.2  5.   9.5  9.4  8.4  7.7  9.9\n  8.3  7.1  9.7 10.6  8.3  8.4  8.2  7.2 11.9  6.1  9.   7.6  7.3  8.1\n  7.3  7.1  9.   9.1  7.5  7.4  6.7  7.9  7.2  6.7  6.6  6.7  7.4  6.5\n  8.8  8.2  9.3  9.6 11.5  7.8 10.6 11.1 10.   6.1  6.7 10.4 11.9  6.4\n  7.4  8.1  7.5  9.4  6.2  9.6  7.2 10.9  7.2  8.8  7.7  7.9  9.4  7.9\n  8.9  7.5  7.7  6.3 11.5 10.2  6.3  6.9 11.5  6.9  7.5  8.8  8.7  7.5\n  7.5 10.5 11.5 12.8  7.1 10.4  7.6  7.6 10.   8.  12.5  7.1  7.   6.\n  6.7  7.6  7.6  6.5  7.1 10.4 12.3  6.8  8.4  6.6  9.5  8.   9.5  8.\n  9.4  7.6 11.5  8.5  8.   8.   6.5 12.4  7.7  9.9  7.4 10.8  6.1 11.6\n 10.4 14.3 10.5  8.9  6.6  8.3  7.   7.3 12.5 10.7  6.6  8.9 12.6  8.9\n  6.4  7.4  7.2 11.4  7.5  5.2 10.2  7.1  7.3  8.   7.8  8.8  6.9  6.8\n  7.9  6.7  7.4  8.4  6.   7.7  6.   7.4  7.   4.9  8.1  8.9  5.6  8.4\n  6.9  7.  12.3  7.9 10.4  5.8 12.7  9.6  7.2 15.6  7.1  7.5 10.6  8.5\n  7.6  9.9  9.1  9.8  5.6  8.7  6.4  6.2  8.3  6.   8.2  7.7  6.9  8.7\n 10.5  8.9  6.8  7.7  8.3  8.6 10.7  7.6  8.3  7.8  9.   7.6  8.8  7.3\n 11.2  8.4  7.3  6.9  9.3  7.2  9.2  6.9  7.7  7.1  7.9  6.7  7.7  7.3\n 11.9  8.   9.2  7.8  7.1  7.   7.  11.1  7.8  7.1  8.6  8.9  9.2  9.7\n  8.8 15.5  8.7  9.4  9.8 10.7 11.6  8.   8.6  8.4  7.  12.2  9.8  7.\n  9.1  8.6  6.9  7.3 10.   8.8  5.   8.2 10.7  7.   7.2  7.7  7.4  9.2\n  7.5  6.7  9.6 10.   7.3  7.8  7.4 11.7  6.5  8.3  9.9  7.3  7.2  5.7\n  6.6  7.1  9.   7.1  9.9  6.2  7.8  5.4  7.5  8.9  7.6  8.2  8.7].\nReshape your data either using array.reshape(-1, 1) if your data has a single feature or array.reshape(1, -1) if it contains a single sample.",
     "output_type": "error",
     "traceback": [
      "\u001b[0;31m---------------------------------------------------------------------------\u001b[0m",
      "\u001b[0;31mValueError\u001b[0m                                Traceback (most recent call last)",
      "\u001b[0;32m<ipython-input-52-e988207af480>\u001b[0m in \u001b[0;36m<module>\u001b[0;34m\u001b[0m\n\u001b[1;32m      3\u001b[0m         \u001b[0;32mfor\u001b[0m \u001b[0mcol\u001b[0m \u001b[0;32min\u001b[0m \u001b[0mwine_d\u001b[0m\u001b[0;34m[\u001b[0m\u001b[0mdf\u001b[0m\u001b[0;34m]\u001b[0m\u001b[0;34m:\u001b[0m\u001b[0;34m\u001b[0m\u001b[0;34m\u001b[0m\u001b[0m\n\u001b[1;32m      4\u001b[0m             \u001b[0;32mif\u001b[0m \u001b[0mcol\u001b[0m\u001b[0;34m[\u001b[0m\u001b[0;34m-\u001b[0m\u001b[0;36m2\u001b[0m\u001b[0;34m:\u001b[0m\u001b[0;34m]\u001b[0m \u001b[0;34m==\u001b[0m \u001b[0;34m'_s'\u001b[0m\u001b[0;34m:\u001b[0m\u001b[0;34m\u001b[0m\u001b[0;34m\u001b[0m\u001b[0m\n\u001b[0;32m----> 5\u001b[0;31m                 \u001b[0mwine_d\u001b[0m\u001b[0;34m[\u001b[0m\u001b[0mdf\u001b[0m\u001b[0;34m]\u001b[0m\u001b[0;34m[\u001b[0m\u001b[0mcol\u001b[0m\u001b[0;34m]\u001b[0m \u001b[0;34m=\u001b[0m \u001b[0mscaler\u001b[0m\u001b[0;34m.\u001b[0m\u001b[0mfit_transform\u001b[0m\u001b[0;34m(\u001b[0m\u001b[0mwine_d\u001b[0m\u001b[0;34m[\u001b[0m\u001b[0mdf\u001b[0m\u001b[0;34m]\u001b[0m\u001b[0;34m[\u001b[0m\u001b[0mcol\u001b[0m\u001b[0;34m[\u001b[0m\u001b[0;34m:\u001b[0m\u001b[0;34m-\u001b[0m\u001b[0;36m2\u001b[0m\u001b[0;34m]\u001b[0m\u001b[0;34m]\u001b[0m\u001b[0;34m)\u001b[0m\u001b[0;34m\u001b[0m\u001b[0;34m\u001b[0m\u001b[0m\n\u001b[0m\u001b[1;32m      6\u001b[0m     \u001b[0;31m#if str(df) != 'train':\u001b[0m\u001b[0;34m\u001b[0m\u001b[0;34m\u001b[0m\u001b[0;34m\u001b[0m\u001b[0m\n\u001b[1;32m      7\u001b[0m      \u001b[0;31m#   for col in df:\u001b[0m\u001b[0;34m\u001b[0m\u001b[0;34m\u001b[0m\u001b[0;34m\u001b[0m\u001b[0m\n",
      "\u001b[0;32m/usr/local/anaconda3/lib/python3.7/site-packages/sklearn/base.py\u001b[0m in \u001b[0;36mfit_transform\u001b[0;34m(self, X, y, **fit_params)\u001b[0m\n\u001b[1;32m    697\u001b[0m         \u001b[0;32mif\u001b[0m \u001b[0my\u001b[0m \u001b[0;32mis\u001b[0m \u001b[0;32mNone\u001b[0m\u001b[0;34m:\u001b[0m\u001b[0;34m\u001b[0m\u001b[0;34m\u001b[0m\u001b[0m\n\u001b[1;32m    698\u001b[0m             \u001b[0;31m# fit method of arity 1 (unsupervised transformation)\u001b[0m\u001b[0;34m\u001b[0m\u001b[0;34m\u001b[0m\u001b[0;34m\u001b[0m\u001b[0m\n\u001b[0;32m--> 699\u001b[0;31m             \u001b[0;32mreturn\u001b[0m \u001b[0mself\u001b[0m\u001b[0;34m.\u001b[0m\u001b[0mfit\u001b[0m\u001b[0;34m(\u001b[0m\u001b[0mX\u001b[0m\u001b[0;34m,\u001b[0m \u001b[0;34m**\u001b[0m\u001b[0mfit_params\u001b[0m\u001b[0;34m)\u001b[0m\u001b[0;34m.\u001b[0m\u001b[0mtransform\u001b[0m\u001b[0;34m(\u001b[0m\u001b[0mX\u001b[0m\u001b[0;34m)\u001b[0m\u001b[0;34m\u001b[0m\u001b[0;34m\u001b[0m\u001b[0m\n\u001b[0m\u001b[1;32m    700\u001b[0m         \u001b[0;32melse\u001b[0m\u001b[0;34m:\u001b[0m\u001b[0;34m\u001b[0m\u001b[0;34m\u001b[0m\u001b[0m\n\u001b[1;32m    701\u001b[0m             \u001b[0;31m# fit method of arity 2 (supervised transformation)\u001b[0m\u001b[0;34m\u001b[0m\u001b[0;34m\u001b[0m\u001b[0;34m\u001b[0m\u001b[0m\n",
      "\u001b[0;32m/usr/local/anaconda3/lib/python3.7/site-packages/sklearn/preprocessing/_data.py\u001b[0m in \u001b[0;36mfit\u001b[0;34m(self, X, y)\u001b[0m\n\u001b[1;32m    361\u001b[0m         \u001b[0;31m# Reset internal state before fitting\u001b[0m\u001b[0;34m\u001b[0m\u001b[0;34m\u001b[0m\u001b[0;34m\u001b[0m\u001b[0m\n\u001b[1;32m    362\u001b[0m         \u001b[0mself\u001b[0m\u001b[0;34m.\u001b[0m\u001b[0m_reset\u001b[0m\u001b[0;34m(\u001b[0m\u001b[0;34m)\u001b[0m\u001b[0;34m\u001b[0m\u001b[0;34m\u001b[0m\u001b[0m\n\u001b[0;32m--> 363\u001b[0;31m         \u001b[0;32mreturn\u001b[0m \u001b[0mself\u001b[0m\u001b[0;34m.\u001b[0m\u001b[0mpartial_fit\u001b[0m\u001b[0;34m(\u001b[0m\u001b[0mX\u001b[0m\u001b[0;34m,\u001b[0m \u001b[0my\u001b[0m\u001b[0;34m)\u001b[0m\u001b[0;34m\u001b[0m\u001b[0;34m\u001b[0m\u001b[0m\n\u001b[0m\u001b[1;32m    364\u001b[0m \u001b[0;34m\u001b[0m\u001b[0m\n\u001b[1;32m    365\u001b[0m     \u001b[0;32mdef\u001b[0m \u001b[0mpartial_fit\u001b[0m\u001b[0;34m(\u001b[0m\u001b[0mself\u001b[0m\u001b[0;34m,\u001b[0m \u001b[0mX\u001b[0m\u001b[0;34m,\u001b[0m \u001b[0my\u001b[0m\u001b[0;34m=\u001b[0m\u001b[0;32mNone\u001b[0m\u001b[0;34m)\u001b[0m\u001b[0;34m:\u001b[0m\u001b[0;34m\u001b[0m\u001b[0;34m\u001b[0m\u001b[0m\n",
      "\u001b[0;32m/usr/local/anaconda3/lib/python3.7/site-packages/sklearn/preprocessing/_data.py\u001b[0m in \u001b[0;36mpartial_fit\u001b[0;34m(self, X, y)\u001b[0m\n\u001b[1;32m    396\u001b[0m         X = self._validate_data(X, reset=first_pass,\n\u001b[1;32m    397\u001b[0m                                 \u001b[0mestimator\u001b[0m\u001b[0;34m=\u001b[0m\u001b[0mself\u001b[0m\u001b[0;34m,\u001b[0m \u001b[0mdtype\u001b[0m\u001b[0;34m=\u001b[0m\u001b[0mFLOAT_DTYPES\u001b[0m\u001b[0;34m,\u001b[0m\u001b[0;34m\u001b[0m\u001b[0;34m\u001b[0m\u001b[0m\n\u001b[0;32m--> 398\u001b[0;31m                                 force_all_finite=\"allow-nan\")\n\u001b[0m\u001b[1;32m    399\u001b[0m \u001b[0;34m\u001b[0m\u001b[0m\n\u001b[1;32m    400\u001b[0m         \u001b[0mdata_min\u001b[0m \u001b[0;34m=\u001b[0m \u001b[0mnp\u001b[0m\u001b[0;34m.\u001b[0m\u001b[0mnanmin\u001b[0m\u001b[0;34m(\u001b[0m\u001b[0mX\u001b[0m\u001b[0;34m,\u001b[0m \u001b[0maxis\u001b[0m\u001b[0;34m=\u001b[0m\u001b[0;36m0\u001b[0m\u001b[0;34m)\u001b[0m\u001b[0;34m\u001b[0m\u001b[0;34m\u001b[0m\u001b[0m\n",
      "\u001b[0;32m/usr/local/anaconda3/lib/python3.7/site-packages/sklearn/base.py\u001b[0m in \u001b[0;36m_validate_data\u001b[0;34m(self, X, y, reset, validate_separately, **check_params)\u001b[0m\n\u001b[1;32m    419\u001b[0m             \u001b[0mout\u001b[0m \u001b[0;34m=\u001b[0m \u001b[0mX\u001b[0m\u001b[0;34m\u001b[0m\u001b[0;34m\u001b[0m\u001b[0m\n\u001b[1;32m    420\u001b[0m         \u001b[0;32melif\u001b[0m \u001b[0misinstance\u001b[0m\u001b[0;34m(\u001b[0m\u001b[0my\u001b[0m\u001b[0;34m,\u001b[0m \u001b[0mstr\u001b[0m\u001b[0;34m)\u001b[0m \u001b[0;32mand\u001b[0m \u001b[0my\u001b[0m \u001b[0;34m==\u001b[0m \u001b[0;34m'no_validation'\u001b[0m\u001b[0;34m:\u001b[0m\u001b[0;34m\u001b[0m\u001b[0;34m\u001b[0m\u001b[0m\n\u001b[0;32m--> 421\u001b[0;31m             \u001b[0mX\u001b[0m \u001b[0;34m=\u001b[0m \u001b[0mcheck_array\u001b[0m\u001b[0;34m(\u001b[0m\u001b[0mX\u001b[0m\u001b[0;34m,\u001b[0m \u001b[0;34m**\u001b[0m\u001b[0mcheck_params\u001b[0m\u001b[0;34m)\u001b[0m\u001b[0;34m\u001b[0m\u001b[0;34m\u001b[0m\u001b[0m\n\u001b[0m\u001b[1;32m    422\u001b[0m             \u001b[0mout\u001b[0m \u001b[0;34m=\u001b[0m \u001b[0mX\u001b[0m\u001b[0;34m\u001b[0m\u001b[0;34m\u001b[0m\u001b[0m\n\u001b[1;32m    423\u001b[0m         \u001b[0;32melse\u001b[0m\u001b[0;34m:\u001b[0m\u001b[0;34m\u001b[0m\u001b[0;34m\u001b[0m\u001b[0m\n",
      "\u001b[0;32m/usr/local/anaconda3/lib/python3.7/site-packages/sklearn/utils/validation.py\u001b[0m in \u001b[0;36minner_f\u001b[0;34m(*args, **kwargs)\u001b[0m\n\u001b[1;32m     61\u001b[0m             \u001b[0mextra_args\u001b[0m \u001b[0;34m=\u001b[0m \u001b[0mlen\u001b[0m\u001b[0;34m(\u001b[0m\u001b[0margs\u001b[0m\u001b[0;34m)\u001b[0m \u001b[0;34m-\u001b[0m \u001b[0mlen\u001b[0m\u001b[0;34m(\u001b[0m\u001b[0mall_args\u001b[0m\u001b[0;34m)\u001b[0m\u001b[0;34m\u001b[0m\u001b[0;34m\u001b[0m\u001b[0m\n\u001b[1;32m     62\u001b[0m             \u001b[0;32mif\u001b[0m \u001b[0mextra_args\u001b[0m \u001b[0;34m<=\u001b[0m \u001b[0;36m0\u001b[0m\u001b[0;34m:\u001b[0m\u001b[0;34m\u001b[0m\u001b[0;34m\u001b[0m\u001b[0m\n\u001b[0;32m---> 63\u001b[0;31m                 \u001b[0;32mreturn\u001b[0m \u001b[0mf\u001b[0m\u001b[0;34m(\u001b[0m\u001b[0;34m*\u001b[0m\u001b[0margs\u001b[0m\u001b[0;34m,\u001b[0m \u001b[0;34m**\u001b[0m\u001b[0mkwargs\u001b[0m\u001b[0;34m)\u001b[0m\u001b[0;34m\u001b[0m\u001b[0;34m\u001b[0m\u001b[0m\n\u001b[0m\u001b[1;32m     64\u001b[0m \u001b[0;34m\u001b[0m\u001b[0m\n\u001b[1;32m     65\u001b[0m             \u001b[0;31m# extra_args > 0\u001b[0m\u001b[0;34m\u001b[0m\u001b[0;34m\u001b[0m\u001b[0;34m\u001b[0m\u001b[0m\n",
      "\u001b[0;32m/usr/local/anaconda3/lib/python3.7/site-packages/sklearn/utils/validation.py\u001b[0m in \u001b[0;36mcheck_array\u001b[0;34m(array, accept_sparse, accept_large_sparse, dtype, order, copy, force_all_finite, ensure_2d, allow_nd, ensure_min_samples, ensure_min_features, estimator)\u001b[0m\n\u001b[1;32m    639\u001b[0m                     \u001b[0;34m\"Reshape your data either using array.reshape(-1, 1) if \"\u001b[0m\u001b[0;34m\u001b[0m\u001b[0;34m\u001b[0m\u001b[0m\n\u001b[1;32m    640\u001b[0m                     \u001b[0;34m\"your data has a single feature or array.reshape(1, -1) \"\u001b[0m\u001b[0;34m\u001b[0m\u001b[0;34m\u001b[0m\u001b[0m\n\u001b[0;32m--> 641\u001b[0;31m                     \"if it contains a single sample.\".format(array))\n\u001b[0m\u001b[1;32m    642\u001b[0m \u001b[0;34m\u001b[0m\u001b[0m\n\u001b[1;32m    643\u001b[0m         \u001b[0;31m# make sure we actually converted to numeric:\u001b[0m\u001b[0;34m\u001b[0m\u001b[0;34m\u001b[0m\u001b[0;34m\u001b[0m\u001b[0m\n",
      "\u001b[0;31mValueError\u001b[0m: Expected 2D array, got 1D array instead:\narray=[ 8.3  6.7  8.2  8.2 10.8  9.   7.2  8.6  7.   6.7  7.2 10.9  6.5  6.3\n  7.9  6.2  8.5  7.2  7.2  8.2  8.5 10.2  7.8  7.8  9.9  8.   7.6  9.1\n  7.5  9.9  5.6  6.6 10.3  7.8  8.2  7.2 12.2  7.1 12.   8.3  7.2  7.\n  6.5  7.7  9.9 12.4  5.1  5.2  8.   7.9  7.2  7.9  7.6  7.7  7.  10.4\n  7.6  7.5  8.4  7.9  6.1  9.4  7.  10.5  8.3 10.4  9.2  7.4  8.   8.5\n  8.1  8.2  8.9  8.3  7.1  9.   7.8  8.6  6.8  9.1  6.4  6.2 12.5  9.9\n  8.9 11.6  8.6  9.   7.4 11.6  7.1  7.5  7.4  5.4  9.4 12.   7.1 10.\n  7.1  7.2  7.3  7.8 10.5 10.7  9.9  6.4 11.3  8.1  8.6  7.3 11.9  6.5\n  7.4  9.1  8.6  7.8  8.4  7.   7.2 11.8  6.3  7.7 11.5  8.5  7.1  7.8\n  7.6  6.2  8.2  6.   7.4  6.3 12.  10.   7.7  4.7  7.2 10.9 10.4  7.4\n  8.   9.9  7.1 10.6 10.2  7.9  8.9  6.5 10.2  7.5  8.   6.8  7.8  9.7\n  8.4  6.8 10.4  8.1  5.7  8.2  7.3  7.7  5.9 10.1  9.9  8.5  8.3  7.\n  8.3  7.1  6.7  6.2 12.6  6.8  8.   6.9  7.1  9.3  7.8 10.8 10.1  9.3\n  6.8  6.7  9.6  8.4  6.9  9.3 11.5  6.6 13.7  8.3  6.6  7.2  8.8 11.5\n  6.6  7.7  9.2  9.   8.9  7.3 10.7  8.3  8.3  6.8  7.8  6.6  9.1  9.6\n  8.2  6.7  7.2  9.3 10.   6.5  6.5  6.7  6.6  7.   7.6  6.6  6.6  6.2\n  8.1  7.7  6.7  6.4  9.3  7.2  5.9  8.   7.8  8.8  7.9  6.8  8.3  6.8\n 11.9  9.   7.7  6.4  6.9 10.2 10.2  7.9  7.9 11.3  9.3  8.1 12.2  8.\n  9.6  6.4  6.4  7.5  8.1 12.   7.6  7.9  8.7  6.6  7.2 10.5  9.   8.7\n  6.1 10.   6.9  6.7  8.9  7.3 12.4  9.3  8.7  6.8  6.8  7.7  7.1  8.\n  6.6  7.4 12.9  8.3  6.7 12.5  8.   9.9  7.   7.9  9.3  7.7 12.3  7.3\n  7.   8.9  7.3  7.1 10.2  6.1  7.5  7.2  7.   8.6  7.4  8.3 11.2  9.1\n  7.8 11.2  8.8  7.2  7.6  7.1  9.5  7.2  6.7  8.3  7.5 10.2  6.2 12.6\n  8.3 12.  11.   8.6  7.4 10.2  6.4  7.9  8.5 14.   7.1  8.2  7.5  9.2\n  7.7 10.4 12.5  7.7  8.8  7.9  6.7 13.8  8.   8.5  8.2  8.9  5.9  9.6\n  7.1 10.3  9.8 10.2  9.   7.6 12.1  8.2  7.2  7.9  7.3  7.8  9.5  7.2\n 10.8  7.2  7.7  8.7  6.1  7.5  6.8  7.1  9.3  6.9 10.8 11.6  7.   8.1\n  9.   6.3  6.4  7.1  7.2  9.4  6.6  7.2  8.8  9.6  7.2  7.6  8.9  7.2\n 10.4  5.3  7.8 13.7  8.8 10.   9.6 10.   7.9  6.6  9.   8.   8.   8.3\n  8.   8.9  8.3  7.5  8.3 11.  12.   7.6  8.9  9.7  8.2  7.8  5.   7.8\n  7.1  6.8 13.3 11.6  8.8  6.4  8.2  7.9  7.3  8.3  8.1  7.  10.5  6.7\n  5.4  7.8  9.2  7.5  9.1  7.2  9.9  7.1 10.7  7.2  8.8  5.6  9.8  8.7\n  8.2  9.1  8.6  7.6 11.5  7.7  7.1  6.2  5.6  5.2  8.   5.3  7.2  6.8\n  7.6  8.6  8.2  6.3  8.7 10.9 10.2  8.4 10.4  6.8  7.7 10.1  7.4  7.\n  8.4 11.9 10.3  6.7  9.3  8.4  7.8  6.8  6.3  7.1  6.9  8.1  7.7  7.9\n  8.   9.9  6.9  8.2  6.9  8.2  7.6  8.6  7.6  6.6  7.3  7.   8.6 11.4\n  9.1  7.7 15.6  5.   8.2  8.8  5.3  7.1  9.1  7.1  6.8  8.8  7.2  7.1\n  9.1  7.8  8.1  8.9  9.5  7.2  7.4 12.8  6.8  6.1  9.   9.1  6.9  7.5\n  6.8  6.6  9.   9.2 11.2  8.9  8.3  8.   8.4 10.   6.2  7.6  6.9  7.8\n 10.2  7.7  9.1  7.2  7.9  8.8 10.4  7.5  9.9 12.8  8.2  6.5  7.6 11.5\n  7.7  7.5  8.7 10.1  6.4  9.2  7.5  5.8  7.  10.3  7.2  8.2  9.7  8.8\n  6.8  8.7  7.   8.7  8.9  9.   8.8  7.3  6.9  9.1  7.   7.   8.4 10.2\n  8.3  9.2 15.   9.1  7.4 10.2  8.7 10.8  7.2  7.5  7.4  7.8  7.8  7.5\n  5.1 12.5 11.1  5.6  7.7  8.  10.   8.2  5.   9.5  9.4  8.4  7.7  9.9\n  8.3  7.1  9.7 10.6  8.3  8.4  8.2  7.2 11.9  6.1  9.   7.6  7.3  8.1\n  7.3  7.1  9.   9.1  7.5  7.4  6.7  7.9  7.2  6.7  6.6  6.7  7.4  6.5\n  8.8  8.2  9.3  9.6 11.5  7.8 10.6 11.1 10.   6.1  6.7 10.4 11.9  6.4\n  7.4  8.1  7.5  9.4  6.2  9.6  7.2 10.9  7.2  8.8  7.7  7.9  9.4  7.9\n  8.9  7.5  7.7  6.3 11.5 10.2  6.3  6.9 11.5  6.9  7.5  8.8  8.7  7.5\n  7.5 10.5 11.5 12.8  7.1 10.4  7.6  7.6 10.   8.  12.5  7.1  7.   6.\n  6.7  7.6  7.6  6.5  7.1 10.4 12.3  6.8  8.4  6.6  9.5  8.   9.5  8.\n  9.4  7.6 11.5  8.5  8.   8.   6.5 12.4  7.7  9.9  7.4 10.8  6.1 11.6\n 10.4 14.3 10.5  8.9  6.6  8.3  7.   7.3 12.5 10.7  6.6  8.9 12.6  8.9\n  6.4  7.4  7.2 11.4  7.5  5.2 10.2  7.1  7.3  8.   7.8  8.8  6.9  6.8\n  7.9  6.7  7.4  8.4  6.   7.7  6.   7.4  7.   4.9  8.1  8.9  5.6  8.4\n  6.9  7.  12.3  7.9 10.4  5.8 12.7  9.6  7.2 15.6  7.1  7.5 10.6  8.5\n  7.6  9.9  9.1  9.8  5.6  8.7  6.4  6.2  8.3  6.   8.2  7.7  6.9  8.7\n 10.5  8.9  6.8  7.7  8.3  8.6 10.7  7.6  8.3  7.8  9.   7.6  8.8  7.3\n 11.2  8.4  7.3  6.9  9.3  7.2  9.2  6.9  7.7  7.1  7.9  6.7  7.7  7.3\n 11.9  8.   9.2  7.8  7.1  7.   7.  11.1  7.8  7.1  8.6  8.9  9.2  9.7\n  8.8 15.5  8.7  9.4  9.8 10.7 11.6  8.   8.6  8.4  7.  12.2  9.8  7.\n  9.1  8.6  6.9  7.3 10.   8.8  5.   8.2 10.7  7.   7.2  7.7  7.4  9.2\n  7.5  6.7  9.6 10.   7.3  7.8  7.4 11.7  6.5  8.3  9.9  7.3  7.2  5.7\n  6.6  7.1  9.   7.1  9.9  6.2  7.8  5.4  7.5  8.9  7.6  8.2  8.7].\nReshape your data either using array.reshape(-1, 1) if your data has a single feature or array.reshape(1, -1) if it contains a single sample."
     ]
    },
    {
     "ename": "ValueError",
     "evalue": "Expected 2D array, got 1D array instead:\narray=[ 8.3  6.7  8.2  8.2 10.8  9.   7.2  8.6  7.   6.7  7.2 10.9  6.5  6.3\n  7.9  6.2  8.5  7.2  7.2  8.2  8.5 10.2  7.8  7.8  9.9  8.   7.6  9.1\n  7.5  9.9  5.6  6.6 10.3  7.8  8.2  7.2 12.2  7.1 12.   8.3  7.2  7.\n  6.5  7.7  9.9 12.4  5.1  5.2  8.   7.9  7.2  7.9  7.6  7.7  7.  10.4\n  7.6  7.5  8.4  7.9  6.1  9.4  7.  10.5  8.3 10.4  9.2  7.4  8.   8.5\n  8.1  8.2  8.9  8.3  7.1  9.   7.8  8.6  6.8  9.1  6.4  6.2 12.5  9.9\n  8.9 11.6  8.6  9.   7.4 11.6  7.1  7.5  7.4  5.4  9.4 12.   7.1 10.\n  7.1  7.2  7.3  7.8 10.5 10.7  9.9  6.4 11.3  8.1  8.6  7.3 11.9  6.5\n  7.4  9.1  8.6  7.8  8.4  7.   7.2 11.8  6.3  7.7 11.5  8.5  7.1  7.8\n  7.6  6.2  8.2  6.   7.4  6.3 12.  10.   7.7  4.7  7.2 10.9 10.4  7.4\n  8.   9.9  7.1 10.6 10.2  7.9  8.9  6.5 10.2  7.5  8.   6.8  7.8  9.7\n  8.4  6.8 10.4  8.1  5.7  8.2  7.3  7.7  5.9 10.1  9.9  8.5  8.3  7.\n  8.3  7.1  6.7  6.2 12.6  6.8  8.   6.9  7.1  9.3  7.8 10.8 10.1  9.3\n  6.8  6.7  9.6  8.4  6.9  9.3 11.5  6.6 13.7  8.3  6.6  7.2  8.8 11.5\n  6.6  7.7  9.2  9.   8.9  7.3 10.7  8.3  8.3  6.8  7.8  6.6  9.1  9.6\n  8.2  6.7  7.2  9.3 10.   6.5  6.5  6.7  6.6  7.   7.6  6.6  6.6  6.2\n  8.1  7.7  6.7  6.4  9.3  7.2  5.9  8.   7.8  8.8  7.9  6.8  8.3  6.8\n 11.9  9.   7.7  6.4  6.9 10.2 10.2  7.9  7.9 11.3  9.3  8.1 12.2  8.\n  9.6  6.4  6.4  7.5  8.1 12.   7.6  7.9  8.7  6.6  7.2 10.5  9.   8.7\n  6.1 10.   6.9  6.7  8.9  7.3 12.4  9.3  8.7  6.8  6.8  7.7  7.1  8.\n  6.6  7.4 12.9  8.3  6.7 12.5  8.   9.9  7.   7.9  9.3  7.7 12.3  7.3\n  7.   8.9  7.3  7.1 10.2  6.1  7.5  7.2  7.   8.6  7.4  8.3 11.2  9.1\n  7.8 11.2  8.8  7.2  7.6  7.1  9.5  7.2  6.7  8.3  7.5 10.2  6.2 12.6\n  8.3 12.  11.   8.6  7.4 10.2  6.4  7.9  8.5 14.   7.1  8.2  7.5  9.2\n  7.7 10.4 12.5  7.7  8.8  7.9  6.7 13.8  8.   8.5  8.2  8.9  5.9  9.6\n  7.1 10.3  9.8 10.2  9.   7.6 12.1  8.2  7.2  7.9  7.3  7.8  9.5  7.2\n 10.8  7.2  7.7  8.7  6.1  7.5  6.8  7.1  9.3  6.9 10.8 11.6  7.   8.1\n  9.   6.3  6.4  7.1  7.2  9.4  6.6  7.2  8.8  9.6  7.2  7.6  8.9  7.2\n 10.4  5.3  7.8 13.7  8.8 10.   9.6 10.   7.9  6.6  9.   8.   8.   8.3\n  8.   8.9  8.3  7.5  8.3 11.  12.   7.6  8.9  9.7  8.2  7.8  5.   7.8\n  7.1  6.8 13.3 11.6  8.8  6.4  8.2  7.9  7.3  8.3  8.1  7.  10.5  6.7\n  5.4  7.8  9.2  7.5  9.1  7.2  9.9  7.1 10.7  7.2  8.8  5.6  9.8  8.7\n  8.2  9.1  8.6  7.6 11.5  7.7  7.1  6.2  5.6  5.2  8.   5.3  7.2  6.8\n  7.6  8.6  8.2  6.3  8.7 10.9 10.2  8.4 10.4  6.8  7.7 10.1  7.4  7.\n  8.4 11.9 10.3  6.7  9.3  8.4  7.8  6.8  6.3  7.1  6.9  8.1  7.7  7.9\n  8.   9.9  6.9  8.2  6.9  8.2  7.6  8.6  7.6  6.6  7.3  7.   8.6 11.4\n  9.1  7.7 15.6  5.   8.2  8.8  5.3  7.1  9.1  7.1  6.8  8.8  7.2  7.1\n  9.1  7.8  8.1  8.9  9.5  7.2  7.4 12.8  6.8  6.1  9.   9.1  6.9  7.5\n  6.8  6.6  9.   9.2 11.2  8.9  8.3  8.   8.4 10.   6.2  7.6  6.9  7.8\n 10.2  7.7  9.1  7.2  7.9  8.8 10.4  7.5  9.9 12.8  8.2  6.5  7.6 11.5\n  7.7  7.5  8.7 10.1  6.4  9.2  7.5  5.8  7.  10.3  7.2  8.2  9.7  8.8\n  6.8  8.7  7.   8.7  8.9  9.   8.8  7.3  6.9  9.1  7.   7.   8.4 10.2\n  8.3  9.2 15.   9.1  7.4 10.2  8.7 10.8  7.2  7.5  7.4  7.8  7.8  7.5\n  5.1 12.5 11.1  5.6  7.7  8.  10.   8.2  5.   9.5  9.4  8.4  7.7  9.9\n  8.3  7.1  9.7 10.6  8.3  8.4  8.2  7.2 11.9  6.1  9.   7.6  7.3  8.1\n  7.3  7.1  9.   9.1  7.5  7.4  6.7  7.9  7.2  6.7  6.6  6.7  7.4  6.5\n  8.8  8.2  9.3  9.6 11.5  7.8 10.6 11.1 10.   6.1  6.7 10.4 11.9  6.4\n  7.4  8.1  7.5  9.4  6.2  9.6  7.2 10.9  7.2  8.8  7.7  7.9  9.4  7.9\n  8.9  7.5  7.7  6.3 11.5 10.2  6.3  6.9 11.5  6.9  7.5  8.8  8.7  7.5\n  7.5 10.5 11.5 12.8  7.1 10.4  7.6  7.6 10.   8.  12.5  7.1  7.   6.\n  6.7  7.6  7.6  6.5  7.1 10.4 12.3  6.8  8.4  6.6  9.5  8.   9.5  8.\n  9.4  7.6 11.5  8.5  8.   8.   6.5 12.4  7.7  9.9  7.4 10.8  6.1 11.6\n 10.4 14.3 10.5  8.9  6.6  8.3  7.   7.3 12.5 10.7  6.6  8.9 12.6  8.9\n  6.4  7.4  7.2 11.4  7.5  5.2 10.2  7.1  7.3  8.   7.8  8.8  6.9  6.8\n  7.9  6.7  7.4  8.4  6.   7.7  6.   7.4  7.   4.9  8.1  8.9  5.6  8.4\n  6.9  7.  12.3  7.9 10.4  5.8 12.7  9.6  7.2 15.6  7.1  7.5 10.6  8.5\n  7.6  9.9  9.1  9.8  5.6  8.7  6.4  6.2  8.3  6.   8.2  7.7  6.9  8.7\n 10.5  8.9  6.8  7.7  8.3  8.6 10.7  7.6  8.3  7.8  9.   7.6  8.8  7.3\n 11.2  8.4  7.3  6.9  9.3  7.2  9.2  6.9  7.7  7.1  7.9  6.7  7.7  7.3\n 11.9  8.   9.2  7.8  7.1  7.   7.  11.1  7.8  7.1  8.6  8.9  9.2  9.7\n  8.8 15.5  8.7  9.4  9.8 10.7 11.6  8.   8.6  8.4  7.  12.2  9.8  7.\n  9.1  8.6  6.9  7.3 10.   8.8  5.   8.2 10.7  7.   7.2  7.7  7.4  9.2\n  7.5  6.7  9.6 10.   7.3  7.8  7.4 11.7  6.5  8.3  9.9  7.3  7.2  5.7\n  6.6  7.1  9.   7.1  9.9  6.2  7.8  5.4  7.5  8.9  7.6  8.2  8.7].\nReshape your data either using array.reshape(-1, 1) if your data has a single feature or array.reshape(1, -1) if it contains a single sample.",
     "output_type": "error",
     "traceback": [
      "\u001b[0;31m---------------------------------------------------------------------------\u001b[0m",
      "\u001b[0;31mValueError\u001b[0m                                Traceback (most recent call last)",
      "\u001b[0;32m<ipython-input-52-e988207af480>\u001b[0m in \u001b[0;36m<module>\u001b[0;34m\u001b[0m\n\u001b[1;32m      3\u001b[0m         \u001b[0;32mfor\u001b[0m \u001b[0mcol\u001b[0m \u001b[0;32min\u001b[0m \u001b[0mwine_d\u001b[0m\u001b[0;34m[\u001b[0m\u001b[0mdf\u001b[0m\u001b[0;34m]\u001b[0m\u001b[0;34m:\u001b[0m\u001b[0;34m\u001b[0m\u001b[0;34m\u001b[0m\u001b[0m\n\u001b[1;32m      4\u001b[0m             \u001b[0;32mif\u001b[0m \u001b[0mcol\u001b[0m\u001b[0;34m[\u001b[0m\u001b[0;34m-\u001b[0m\u001b[0;36m2\u001b[0m\u001b[0;34m:\u001b[0m\u001b[0;34m]\u001b[0m \u001b[0;34m==\u001b[0m \u001b[0;34m'_s'\u001b[0m\u001b[0;34m:\u001b[0m\u001b[0;34m\u001b[0m\u001b[0;34m\u001b[0m\u001b[0m\n\u001b[0;32m----> 5\u001b[0;31m                 \u001b[0mwine_d\u001b[0m\u001b[0;34m[\u001b[0m\u001b[0mdf\u001b[0m\u001b[0;34m]\u001b[0m\u001b[0;34m[\u001b[0m\u001b[0mcol\u001b[0m\u001b[0;34m]\u001b[0m \u001b[0;34m=\u001b[0m \u001b[0mscaler\u001b[0m\u001b[0;34m.\u001b[0m\u001b[0mfit_transform\u001b[0m\u001b[0;34m(\u001b[0m\u001b[0mwine_d\u001b[0m\u001b[0;34m[\u001b[0m\u001b[0mdf\u001b[0m\u001b[0;34m]\u001b[0m\u001b[0;34m[\u001b[0m\u001b[0mcol\u001b[0m\u001b[0;34m[\u001b[0m\u001b[0;34m:\u001b[0m\u001b[0;34m-\u001b[0m\u001b[0;36m2\u001b[0m\u001b[0;34m]\u001b[0m\u001b[0;34m]\u001b[0m\u001b[0;34m)\u001b[0m\u001b[0;34m\u001b[0m\u001b[0;34m\u001b[0m\u001b[0m\n\u001b[0m\u001b[1;32m      6\u001b[0m     \u001b[0;31m#if str(df) != 'train':\u001b[0m\u001b[0;34m\u001b[0m\u001b[0;34m\u001b[0m\u001b[0;34m\u001b[0m\u001b[0m\n\u001b[1;32m      7\u001b[0m      \u001b[0;31m#   for col in df:\u001b[0m\u001b[0;34m\u001b[0m\u001b[0;34m\u001b[0m\u001b[0;34m\u001b[0m\u001b[0m\n",
      "\u001b[0;32m/usr/local/anaconda3/lib/python3.7/site-packages/sklearn/base.py\u001b[0m in \u001b[0;36mfit_transform\u001b[0;34m(self, X, y, **fit_params)\u001b[0m\n\u001b[1;32m    697\u001b[0m         \u001b[0;32mif\u001b[0m \u001b[0my\u001b[0m \u001b[0;32mis\u001b[0m \u001b[0;32mNone\u001b[0m\u001b[0;34m:\u001b[0m\u001b[0;34m\u001b[0m\u001b[0;34m\u001b[0m\u001b[0m\n\u001b[1;32m    698\u001b[0m             \u001b[0;31m# fit method of arity 1 (unsupervised transformation)\u001b[0m\u001b[0;34m\u001b[0m\u001b[0;34m\u001b[0m\u001b[0;34m\u001b[0m\u001b[0m\n\u001b[0;32m--> 699\u001b[0;31m             \u001b[0;32mreturn\u001b[0m \u001b[0mself\u001b[0m\u001b[0;34m.\u001b[0m\u001b[0mfit\u001b[0m\u001b[0;34m(\u001b[0m\u001b[0mX\u001b[0m\u001b[0;34m,\u001b[0m \u001b[0;34m**\u001b[0m\u001b[0mfit_params\u001b[0m\u001b[0;34m)\u001b[0m\u001b[0;34m.\u001b[0m\u001b[0mtransform\u001b[0m\u001b[0;34m(\u001b[0m\u001b[0mX\u001b[0m\u001b[0;34m)\u001b[0m\u001b[0;34m\u001b[0m\u001b[0;34m\u001b[0m\u001b[0m\n\u001b[0m\u001b[1;32m    700\u001b[0m         \u001b[0;32melse\u001b[0m\u001b[0;34m:\u001b[0m\u001b[0;34m\u001b[0m\u001b[0;34m\u001b[0m\u001b[0m\n\u001b[1;32m    701\u001b[0m             \u001b[0;31m# fit method of arity 2 (supervised transformation)\u001b[0m\u001b[0;34m\u001b[0m\u001b[0;34m\u001b[0m\u001b[0;34m\u001b[0m\u001b[0m\n",
      "\u001b[0;32m/usr/local/anaconda3/lib/python3.7/site-packages/sklearn/preprocessing/_data.py\u001b[0m in \u001b[0;36mfit\u001b[0;34m(self, X, y)\u001b[0m\n\u001b[1;32m    361\u001b[0m         \u001b[0;31m# Reset internal state before fitting\u001b[0m\u001b[0;34m\u001b[0m\u001b[0;34m\u001b[0m\u001b[0;34m\u001b[0m\u001b[0m\n\u001b[1;32m    362\u001b[0m         \u001b[0mself\u001b[0m\u001b[0;34m.\u001b[0m\u001b[0m_reset\u001b[0m\u001b[0;34m(\u001b[0m\u001b[0;34m)\u001b[0m\u001b[0;34m\u001b[0m\u001b[0;34m\u001b[0m\u001b[0m\n\u001b[0;32m--> 363\u001b[0;31m         \u001b[0;32mreturn\u001b[0m \u001b[0mself\u001b[0m\u001b[0;34m.\u001b[0m\u001b[0mpartial_fit\u001b[0m\u001b[0;34m(\u001b[0m\u001b[0mX\u001b[0m\u001b[0;34m,\u001b[0m \u001b[0my\u001b[0m\u001b[0;34m)\u001b[0m\u001b[0;34m\u001b[0m\u001b[0;34m\u001b[0m\u001b[0m\n\u001b[0m\u001b[1;32m    364\u001b[0m \u001b[0;34m\u001b[0m\u001b[0m\n\u001b[1;32m    365\u001b[0m     \u001b[0;32mdef\u001b[0m \u001b[0mpartial_fit\u001b[0m\u001b[0;34m(\u001b[0m\u001b[0mself\u001b[0m\u001b[0;34m,\u001b[0m \u001b[0mX\u001b[0m\u001b[0;34m,\u001b[0m \u001b[0my\u001b[0m\u001b[0;34m=\u001b[0m\u001b[0;32mNone\u001b[0m\u001b[0;34m)\u001b[0m\u001b[0;34m:\u001b[0m\u001b[0;34m\u001b[0m\u001b[0;34m\u001b[0m\u001b[0m\n",
      "\u001b[0;32m/usr/local/anaconda3/lib/python3.7/site-packages/sklearn/preprocessing/_data.py\u001b[0m in \u001b[0;36mpartial_fit\u001b[0;34m(self, X, y)\u001b[0m\n\u001b[1;32m    396\u001b[0m         X = self._validate_data(X, reset=first_pass,\n\u001b[1;32m    397\u001b[0m                                 \u001b[0mestimator\u001b[0m\u001b[0;34m=\u001b[0m\u001b[0mself\u001b[0m\u001b[0;34m,\u001b[0m \u001b[0mdtype\u001b[0m\u001b[0;34m=\u001b[0m\u001b[0mFLOAT_DTYPES\u001b[0m\u001b[0;34m,\u001b[0m\u001b[0;34m\u001b[0m\u001b[0;34m\u001b[0m\u001b[0m\n\u001b[0;32m--> 398\u001b[0;31m                                 force_all_finite=\"allow-nan\")\n\u001b[0m\u001b[1;32m    399\u001b[0m \u001b[0;34m\u001b[0m\u001b[0m\n\u001b[1;32m    400\u001b[0m         \u001b[0mdata_min\u001b[0m \u001b[0;34m=\u001b[0m \u001b[0mnp\u001b[0m\u001b[0;34m.\u001b[0m\u001b[0mnanmin\u001b[0m\u001b[0;34m(\u001b[0m\u001b[0mX\u001b[0m\u001b[0;34m,\u001b[0m \u001b[0maxis\u001b[0m\u001b[0;34m=\u001b[0m\u001b[0;36m0\u001b[0m\u001b[0;34m)\u001b[0m\u001b[0;34m\u001b[0m\u001b[0;34m\u001b[0m\u001b[0m\n",
      "\u001b[0;32m/usr/local/anaconda3/lib/python3.7/site-packages/sklearn/base.py\u001b[0m in \u001b[0;36m_validate_data\u001b[0;34m(self, X, y, reset, validate_separately, **check_params)\u001b[0m\n\u001b[1;32m    419\u001b[0m             \u001b[0mout\u001b[0m \u001b[0;34m=\u001b[0m \u001b[0mX\u001b[0m\u001b[0;34m\u001b[0m\u001b[0;34m\u001b[0m\u001b[0m\n\u001b[1;32m    420\u001b[0m         \u001b[0;32melif\u001b[0m \u001b[0misinstance\u001b[0m\u001b[0;34m(\u001b[0m\u001b[0my\u001b[0m\u001b[0;34m,\u001b[0m \u001b[0mstr\u001b[0m\u001b[0;34m)\u001b[0m \u001b[0;32mand\u001b[0m \u001b[0my\u001b[0m \u001b[0;34m==\u001b[0m \u001b[0;34m'no_validation'\u001b[0m\u001b[0;34m:\u001b[0m\u001b[0;34m\u001b[0m\u001b[0;34m\u001b[0m\u001b[0m\n\u001b[0;32m--> 421\u001b[0;31m             \u001b[0mX\u001b[0m \u001b[0;34m=\u001b[0m \u001b[0mcheck_array\u001b[0m\u001b[0;34m(\u001b[0m\u001b[0mX\u001b[0m\u001b[0;34m,\u001b[0m \u001b[0;34m**\u001b[0m\u001b[0mcheck_params\u001b[0m\u001b[0;34m)\u001b[0m\u001b[0;34m\u001b[0m\u001b[0;34m\u001b[0m\u001b[0m\n\u001b[0m\u001b[1;32m    422\u001b[0m             \u001b[0mout\u001b[0m \u001b[0;34m=\u001b[0m \u001b[0mX\u001b[0m\u001b[0;34m\u001b[0m\u001b[0;34m\u001b[0m\u001b[0m\n\u001b[1;32m    423\u001b[0m         \u001b[0;32melse\u001b[0m\u001b[0;34m:\u001b[0m\u001b[0;34m\u001b[0m\u001b[0;34m\u001b[0m\u001b[0m\n",
      "\u001b[0;32m/usr/local/anaconda3/lib/python3.7/site-packages/sklearn/utils/validation.py\u001b[0m in \u001b[0;36minner_f\u001b[0;34m(*args, **kwargs)\u001b[0m\n\u001b[1;32m     61\u001b[0m             \u001b[0mextra_args\u001b[0m \u001b[0;34m=\u001b[0m \u001b[0mlen\u001b[0m\u001b[0;34m(\u001b[0m\u001b[0margs\u001b[0m\u001b[0;34m)\u001b[0m \u001b[0;34m-\u001b[0m \u001b[0mlen\u001b[0m\u001b[0;34m(\u001b[0m\u001b[0mall_args\u001b[0m\u001b[0;34m)\u001b[0m\u001b[0;34m\u001b[0m\u001b[0;34m\u001b[0m\u001b[0m\n\u001b[1;32m     62\u001b[0m             \u001b[0;32mif\u001b[0m \u001b[0mextra_args\u001b[0m \u001b[0;34m<=\u001b[0m \u001b[0;36m0\u001b[0m\u001b[0;34m:\u001b[0m\u001b[0;34m\u001b[0m\u001b[0;34m\u001b[0m\u001b[0m\n\u001b[0;32m---> 63\u001b[0;31m                 \u001b[0;32mreturn\u001b[0m \u001b[0mf\u001b[0m\u001b[0;34m(\u001b[0m\u001b[0;34m*\u001b[0m\u001b[0margs\u001b[0m\u001b[0;34m,\u001b[0m \u001b[0;34m**\u001b[0m\u001b[0mkwargs\u001b[0m\u001b[0;34m)\u001b[0m\u001b[0;34m\u001b[0m\u001b[0;34m\u001b[0m\u001b[0m\n\u001b[0m\u001b[1;32m     64\u001b[0m \u001b[0;34m\u001b[0m\u001b[0m\n\u001b[1;32m     65\u001b[0m             \u001b[0;31m# extra_args > 0\u001b[0m\u001b[0;34m\u001b[0m\u001b[0;34m\u001b[0m\u001b[0;34m\u001b[0m\u001b[0m\n",
      "\u001b[0;32m/usr/local/anaconda3/lib/python3.7/site-packages/sklearn/utils/validation.py\u001b[0m in \u001b[0;36mcheck_array\u001b[0;34m(array, accept_sparse, accept_large_sparse, dtype, order, copy, force_all_finite, ensure_2d, allow_nd, ensure_min_samples, ensure_min_features, estimator)\u001b[0m\n\u001b[1;32m    639\u001b[0m                     \u001b[0;34m\"Reshape your data either using array.reshape(-1, 1) if \"\u001b[0m\u001b[0;34m\u001b[0m\u001b[0;34m\u001b[0m\u001b[0m\n\u001b[1;32m    640\u001b[0m                     \u001b[0;34m\"your data has a single feature or array.reshape(1, -1) \"\u001b[0m\u001b[0;34m\u001b[0m\u001b[0;34m\u001b[0m\u001b[0m\n\u001b[0;32m--> 641\u001b[0;31m                     \"if it contains a single sample.\".format(array))\n\u001b[0m\u001b[1;32m    642\u001b[0m \u001b[0;34m\u001b[0m\u001b[0m\n\u001b[1;32m    643\u001b[0m         \u001b[0;31m# make sure we actually converted to numeric:\u001b[0m\u001b[0;34m\u001b[0m\u001b[0;34m\u001b[0m\u001b[0;34m\u001b[0m\u001b[0m\n",
      "\u001b[0;31mValueError\u001b[0m: Expected 2D array, got 1D array instead:\narray=[ 8.3  6.7  8.2  8.2 10.8  9.   7.2  8.6  7.   6.7  7.2 10.9  6.5  6.3\n  7.9  6.2  8.5  7.2  7.2  8.2  8.5 10.2  7.8  7.8  9.9  8.   7.6  9.1\n  7.5  9.9  5.6  6.6 10.3  7.8  8.2  7.2 12.2  7.1 12.   8.3  7.2  7.\n  6.5  7.7  9.9 12.4  5.1  5.2  8.   7.9  7.2  7.9  7.6  7.7  7.  10.4\n  7.6  7.5  8.4  7.9  6.1  9.4  7.  10.5  8.3 10.4  9.2  7.4  8.   8.5\n  8.1  8.2  8.9  8.3  7.1  9.   7.8  8.6  6.8  9.1  6.4  6.2 12.5  9.9\n  8.9 11.6  8.6  9.   7.4 11.6  7.1  7.5  7.4  5.4  9.4 12.   7.1 10.\n  7.1  7.2  7.3  7.8 10.5 10.7  9.9  6.4 11.3  8.1  8.6  7.3 11.9  6.5\n  7.4  9.1  8.6  7.8  8.4  7.   7.2 11.8  6.3  7.7 11.5  8.5  7.1  7.8\n  7.6  6.2  8.2  6.   7.4  6.3 12.  10.   7.7  4.7  7.2 10.9 10.4  7.4\n  8.   9.9  7.1 10.6 10.2  7.9  8.9  6.5 10.2  7.5  8.   6.8  7.8  9.7\n  8.4  6.8 10.4  8.1  5.7  8.2  7.3  7.7  5.9 10.1  9.9  8.5  8.3  7.\n  8.3  7.1  6.7  6.2 12.6  6.8  8.   6.9  7.1  9.3  7.8 10.8 10.1  9.3\n  6.8  6.7  9.6  8.4  6.9  9.3 11.5  6.6 13.7  8.3  6.6  7.2  8.8 11.5\n  6.6  7.7  9.2  9.   8.9  7.3 10.7  8.3  8.3  6.8  7.8  6.6  9.1  9.6\n  8.2  6.7  7.2  9.3 10.   6.5  6.5  6.7  6.6  7.   7.6  6.6  6.6  6.2\n  8.1  7.7  6.7  6.4  9.3  7.2  5.9  8.   7.8  8.8  7.9  6.8  8.3  6.8\n 11.9  9.   7.7  6.4  6.9 10.2 10.2  7.9  7.9 11.3  9.3  8.1 12.2  8.\n  9.6  6.4  6.4  7.5  8.1 12.   7.6  7.9  8.7  6.6  7.2 10.5  9.   8.7\n  6.1 10.   6.9  6.7  8.9  7.3 12.4  9.3  8.7  6.8  6.8  7.7  7.1  8.\n  6.6  7.4 12.9  8.3  6.7 12.5  8.   9.9  7.   7.9  9.3  7.7 12.3  7.3\n  7.   8.9  7.3  7.1 10.2  6.1  7.5  7.2  7.   8.6  7.4  8.3 11.2  9.1\n  7.8 11.2  8.8  7.2  7.6  7.1  9.5  7.2  6.7  8.3  7.5 10.2  6.2 12.6\n  8.3 12.  11.   8.6  7.4 10.2  6.4  7.9  8.5 14.   7.1  8.2  7.5  9.2\n  7.7 10.4 12.5  7.7  8.8  7.9  6.7 13.8  8.   8.5  8.2  8.9  5.9  9.6\n  7.1 10.3  9.8 10.2  9.   7.6 12.1  8.2  7.2  7.9  7.3  7.8  9.5  7.2\n 10.8  7.2  7.7  8.7  6.1  7.5  6.8  7.1  9.3  6.9 10.8 11.6  7.   8.1\n  9.   6.3  6.4  7.1  7.2  9.4  6.6  7.2  8.8  9.6  7.2  7.6  8.9  7.2\n 10.4  5.3  7.8 13.7  8.8 10.   9.6 10.   7.9  6.6  9.   8.   8.   8.3\n  8.   8.9  8.3  7.5  8.3 11.  12.   7.6  8.9  9.7  8.2  7.8  5.   7.8\n  7.1  6.8 13.3 11.6  8.8  6.4  8.2  7.9  7.3  8.3  8.1  7.  10.5  6.7\n  5.4  7.8  9.2  7.5  9.1  7.2  9.9  7.1 10.7  7.2  8.8  5.6  9.8  8.7\n  8.2  9.1  8.6  7.6 11.5  7.7  7.1  6.2  5.6  5.2  8.   5.3  7.2  6.8\n  7.6  8.6  8.2  6.3  8.7 10.9 10.2  8.4 10.4  6.8  7.7 10.1  7.4  7.\n  8.4 11.9 10.3  6.7  9.3  8.4  7.8  6.8  6.3  7.1  6.9  8.1  7.7  7.9\n  8.   9.9  6.9  8.2  6.9  8.2  7.6  8.6  7.6  6.6  7.3  7.   8.6 11.4\n  9.1  7.7 15.6  5.   8.2  8.8  5.3  7.1  9.1  7.1  6.8  8.8  7.2  7.1\n  9.1  7.8  8.1  8.9  9.5  7.2  7.4 12.8  6.8  6.1  9.   9.1  6.9  7.5\n  6.8  6.6  9.   9.2 11.2  8.9  8.3  8.   8.4 10.   6.2  7.6  6.9  7.8\n 10.2  7.7  9.1  7.2  7.9  8.8 10.4  7.5  9.9 12.8  8.2  6.5  7.6 11.5\n  7.7  7.5  8.7 10.1  6.4  9.2  7.5  5.8  7.  10.3  7.2  8.2  9.7  8.8\n  6.8  8.7  7.   8.7  8.9  9.   8.8  7.3  6.9  9.1  7.   7.   8.4 10.2\n  8.3  9.2 15.   9.1  7.4 10.2  8.7 10.8  7.2  7.5  7.4  7.8  7.8  7.5\n  5.1 12.5 11.1  5.6  7.7  8.  10.   8.2  5.   9.5  9.4  8.4  7.7  9.9\n  8.3  7.1  9.7 10.6  8.3  8.4  8.2  7.2 11.9  6.1  9.   7.6  7.3  8.1\n  7.3  7.1  9.   9.1  7.5  7.4  6.7  7.9  7.2  6.7  6.6  6.7  7.4  6.5\n  8.8  8.2  9.3  9.6 11.5  7.8 10.6 11.1 10.   6.1  6.7 10.4 11.9  6.4\n  7.4  8.1  7.5  9.4  6.2  9.6  7.2 10.9  7.2  8.8  7.7  7.9  9.4  7.9\n  8.9  7.5  7.7  6.3 11.5 10.2  6.3  6.9 11.5  6.9  7.5  8.8  8.7  7.5\n  7.5 10.5 11.5 12.8  7.1 10.4  7.6  7.6 10.   8.  12.5  7.1  7.   6.\n  6.7  7.6  7.6  6.5  7.1 10.4 12.3  6.8  8.4  6.6  9.5  8.   9.5  8.\n  9.4  7.6 11.5  8.5  8.   8.   6.5 12.4  7.7  9.9  7.4 10.8  6.1 11.6\n 10.4 14.3 10.5  8.9  6.6  8.3  7.   7.3 12.5 10.7  6.6  8.9 12.6  8.9\n  6.4  7.4  7.2 11.4  7.5  5.2 10.2  7.1  7.3  8.   7.8  8.8  6.9  6.8\n  7.9  6.7  7.4  8.4  6.   7.7  6.   7.4  7.   4.9  8.1  8.9  5.6  8.4\n  6.9  7.  12.3  7.9 10.4  5.8 12.7  9.6  7.2 15.6  7.1  7.5 10.6  8.5\n  7.6  9.9  9.1  9.8  5.6  8.7  6.4  6.2  8.3  6.   8.2  7.7  6.9  8.7\n 10.5  8.9  6.8  7.7  8.3  8.6 10.7  7.6  8.3  7.8  9.   7.6  8.8  7.3\n 11.2  8.4  7.3  6.9  9.3  7.2  9.2  6.9  7.7  7.1  7.9  6.7  7.7  7.3\n 11.9  8.   9.2  7.8  7.1  7.   7.  11.1  7.8  7.1  8.6  8.9  9.2  9.7\n  8.8 15.5  8.7  9.4  9.8 10.7 11.6  8.   8.6  8.4  7.  12.2  9.8  7.\n  9.1  8.6  6.9  7.3 10.   8.8  5.   8.2 10.7  7.   7.2  7.7  7.4  9.2\n  7.5  6.7  9.6 10.   7.3  7.8  7.4 11.7  6.5  8.3  9.9  7.3  7.2  5.7\n  6.6  7.1  9.   7.1  9.9  6.2  7.8  5.4  7.5  8.9  7.6  8.2  8.7].\nReshape your data either using array.reshape(-1, 1) if your data has a single feature or array.reshape(1, -1) if it contains a single sample."
     ]
    }
   ],
   "source": [
    "for df in wine_d:\n",
    "    if df == 'train':\n",
    "        for col in wine_d[df]:\n",
    "            if col[-2:] == '_s':\n",
    "                wine_d[df][col] = scaler.fit_transform(wine_d[df][col[:-2]])\n",
    "    #if str(df) != 'train':\n",
    "     #   for col in df:\n",
    "      #      if col[-2:] == '_s':\n",
    "       #         df[col] = scaler.transform(df[col])"
   ]
  },
  {
   "cell_type": "code",
   "execution_count": 51,
   "metadata": {},
   "outputs": [
    {
     "name": "stdout",
     "output_type": "stream",
     "text": [
      "fixed acidity\n",
      "volatile acidity\n",
      "residual sugar\n",
      "free sulfur dioxide\n",
      "total sulfur dioxide\n",
      "density\n",
      "pH\n",
      "sulphates\n",
      "alcohol\n",
      "fixed acidity\n",
      "volatile acidity\n",
      "residual sugar\n",
      "free sulfur dioxide\n",
      "total sulfur dioxide\n",
      "density\n",
      "pH\n",
      "sulphates\n",
      "alcohol\n"
     ]
    }
   ],
   "source": [
    "for df in wine_d:\n",
    "    if df == 'train':\n",
    "        for col in wine_d[df]:\n",
    "            if col[-2:] == '_s':\n",
    "                print(col[:-2])"
   ]
  },
  {
   "cell_type": "code",
   "execution_count": 28,
   "metadata": {},
   "outputs": [
    {
     "data": {
      "text/plain": [
       "965     1\n",
       "822     1\n",
       "1481    1\n",
       "247     1\n",
       "250     1\n",
       "       ..\n",
       "862     1\n",
       "998     1\n",
       "1057    1\n",
       "1345    1\n",
       "635     1\n",
       "Name: density_s, Length: 895, dtype: int64"
      ]
     },
     "execution_count": 28,
     "metadata": {},
     "output_type": "execute_result"
    },
    {
     "data": {
      "text/plain": [
       "965     1\n",
       "822     1\n",
       "1481    1\n",
       "247     1\n",
       "250     1\n",
       "       ..\n",
       "862     1\n",
       "998     1\n",
       "1057    1\n",
       "1345    1\n",
       "635     1\n",
       "Name: density_s, Length: 895, dtype: int64"
      ]
     },
     "execution_count": 28,
     "metadata": {},
     "output_type": "execute_result"
    }
   ],
   "source": [
    "wine_d['train']['density_s']"
   ]
  },
  {
   "cell_type": "code",
   "execution_count": null,
   "metadata": {},
   "outputs": [],
   "source": []
  }
 ],
 "metadata": {
  "kernelspec": {
   "display_name": "Python 3",
   "language": "python",
   "name": "python3"
  },
  "language_info": {
   "codemirror_mode": {
    "name": "ipython",
    "version": 3
   },
   "file_extension": ".py",
   "mimetype": "text/x-python",
   "name": "python",
   "nbconvert_exporter": "python",
   "pygments_lexer": "ipython3",
   "version": "3.7.6"
  }
 },
 "nbformat": 4,
 "nbformat_minor": 4
}
